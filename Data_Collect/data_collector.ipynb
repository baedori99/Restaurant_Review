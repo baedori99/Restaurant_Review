{
 "cells": [
  {
   "cell_type": "code",
   "execution_count": 278,
   "metadata": {},
   "outputs": [],
   "source": [
    "# Setting\n",
    "from selenium import webdriver\n",
    "from selenium.webdriver.chrome.options import Options\n",
    "from selenium.webdriver.common.keys import Keys\n",
    "from selenium.webdriver.common.by import By\n",
    "from selenium.webdriver.common.actions.action_builder import ActionBuilder\n",
    "from selenium.webdriver.common.actions.mouse_button import MouseButton\n",
    "from selenium.webdriver import ActionChains\n",
    "from selenium.webdriver.support.ui import WebDriverWait\n",
    "from selenium.webdriver.support import expected_conditions as EC\n",
    "import time\n",
    "import pandas as pd\n",
    "\n",
    "url = \"https://pcmap.place.naver.com/restaurant/13166754/review/visitor\""
   ]
  },
  {
   "cell_type": "code",
   "execution_count": 279,
   "metadata": {},
   "outputs": [
    {
     "data": {
      "text/plain": [
       "[<selenium.webdriver.remote.webelement.WebElement (session=\"362868224bb6e8afe8615e4595a8b229\", element=\"f.AEC597B2DB553F81BDA4C3C14856A5AB.d.F6BC0B1666F57E013B2BBD233FCAEB7E.e.31\")>]"
      ]
     },
     "execution_count": 279,
     "metadata": {},
     "output_type": "execute_result"
    }
   ],
   "source": [
    "# 크롬창 열기\n",
    "options = Options()\n",
    "driver = webdriver.Chrome(options = options)\n",
    "\n",
    "# 창모드 전체화면으로 크기 늘리기\n",
    "driver.maximize_window()\n",
    "\n",
    "# 로딩시간: 페이지 로딩\n",
    "wait = WebDriverWait(driver, 10)\n",
    "wait.until(EC.presence_of_all_elements_located((By.TAG_NAME, 'body')))\n",
    "\n",
    "# 네이버 리뷰 주소 접속하기\n",
    "driver.get(url)\n",
    "\n",
    "# 로딩시간: 페이지 로딩\n",
    "wait = WebDriverWait(driver, 10)\n",
    "wait.until(EC.presence_of_all_elements_located((By.TAG_NAME, 'body')))"
   ]
  },
  {
   "cell_type": "code",
   "execution_count": 283,
   "metadata": {},
   "outputs": [],
   "source": [
    "rows = driver.find_elements(By.CLASS_NAME, 'owAeM')\n",
    "# # 아이디\n",
    "# user_id = rows[0].find_element(By.CLASS_NAME, 'qgLL3')\n",
    "\n",
    "# # 리뷰 텍스트\n",
    "# review_text = rows[0].find_element(By.CLASS_NAME, 'zPfVt')\n",
    "# print(review_text.text)\n",
    "# # 방문 횟수\n",
    "# number_visits = rows[5].find_elements(By.CLASS_NAME, 'CKUdu')[1]\n",
    "# # 방문 날짜\n",
    "# visit_date = rows[10].find_elements(By.CLASS_NAME, 'CKUdu')[0].find_elements(By.CLASS_NAME, 'place_blind')[1]"
   ]
  },
  {
   "cell_type": "markdown",
   "metadata": {},
   "source": [
    "- 리뷰내용 더보기 버튼을 누르는 것에 문제가 생김"
   ]
  },
  {
   "cell_type": "code",
   "execution_count": 103,
   "metadata": {},
   "outputs": [],
   "source": [
    "# 해결\n",
    "# 리뷰 내용 더보기 버튼 클릭\n",
    "# review_text_extend = rows[4].find_element(By.CLASS_NAME, 'Ky28p').click()\n",
    "review_extend = driver.find_element(By.CLASS_NAME, 'fvwqf').click()"
   ]
  },
  {
   "cell_type": "code",
   "execution_count": 192,
   "metadata": {},
   "outputs": [],
   "source": [
    "# 데이터를 받을 빈 딕셔너리\n",
    "# data = {\"UserID\":[],\"Review_Text\":[], \"NumberOfVisit\":[]}\n",
    "\n",
    "# 더보기 한번당 리뷰 10개씩\n",
    "# 몇개의 리뷰를 확인해야하나\n",
    "# 200개의 리뷰 확인\n",
    "for temp in range(19):\n",
    "    driver.find_element(By.CLASS_NAME, 'fvwqf').click()\n",
    "    time.sleep(1)\n"
   ]
  },
  {
   "cell_type": "code",
   "execution_count": 176,
   "metadata": {},
   "outputs": [],
   "source": [
    "temp_rows = driver.find_elements(By.TAG_NAME, 'li')"
   ]
  },
  {
   "cell_type": "code",
   "execution_count": 194,
   "metadata": {},
   "outputs": [
    {
     "data": {
      "text/plain": [
       "210"
      ]
     },
     "execution_count": 194,
     "metadata": {},
     "output_type": "execute_result"
    }
   ],
   "source": [
    "len(rows)"
   ]
  },
  {
   "cell_type": "code",
   "execution_count": 195,
   "metadata": {},
   "outputs": [],
   "source": [
    "temp_list = []\n",
    "for i in range(200):\n",
    "    user_id = rows[i].find_element(By.CLASS_NAME, 'qgLL3')\n",
    "    temp_list.append(user_id.text)"
   ]
  },
  {
   "cell_type": "code",
   "execution_count": 196,
   "metadata": {},
   "outputs": [
    {
     "data": {
      "text/plain": [
       "200"
      ]
     },
     "execution_count": 196,
     "metadata": {},
     "output_type": "execute_result"
    }
   ],
   "source": [
    "len(temp_list)"
   ]
  },
  {
   "cell_type": "markdown",
   "metadata": {},
   "source": [
    "- 200개 이상이 나오게 한 뒤 200개까지만 추출하는 방법\n",
    "- 200개가 안나오는 것에 대한 오류 확인\n",
    "- 200개 잘나오는 거 확인\n",
    "    - 안나왔던 이유\n",
    "    - rows를 for문을 돌린뒤 한번 더 실행시켜 확인을 시켜줘야 했다."
   ]
  },
  {
   "cell_type": "code",
   "execution_count": 280,
   "metadata": {},
   "outputs": [
    {
     "name": "stdout",
     "output_type": "stream",
     "text": [
      "리뷰 추출하기 시작\n",
      "총 리뷰 개수:  200\n",
      "START >>> 20 >>> 40 >>> 60 >>> 80 >>> 100 >>> 120 >>> 140 >>> 160 >>> 180 >>> 200 >>> End\n"
     ]
    }
   ],
   "source": [
    "# 데이터 받을 빈 딕셔너리\n",
    "review_data = {\"UserID\":[],\"Review_Text\":[],\"Date\":[], \"NumberOfVisit\":[]}\n",
    "\n",
    "# 리뷰 200개까지 나오게 미리 더보기 클릭하기\n",
    "# for문 19번 돌리는 이유는 처음에 10개 있는 것을 빼고 세야함\n",
    "print(\"총 리뷰 개수 구하기\")\n",
    "for num_reviews in range(19):\n",
    "    driver.find_element(By.CLASS_NAME, 'fvwqf').click()\n",
    "    time.sleep(1)\n",
    "rows = driver.find_elements(By.CLASS_NAME, 'owAeM')\n",
    "\n",
    "# rows의 개수를 세어 for문을 돌린다.\n",
    "cnt = len(rows)\n",
    "print(\"총 리뷰 개수: \", cnt)\n",
    "\n",
    "# 리뷰 추출하기\n",
    "log_count = 0\n",
    "print(\"START\", end = \" >>> \")\n",
    "for i in range(cnt):\n",
    "    # 리뷰 내용 더보기 버튼이 없는 리뷰들 예외구문\n",
    "    try:\n",
    "        review_text_extend = rows[i].find_element(By.CLASS_NAME, 'Ky28p').click()\n",
    "    except:\n",
    "        pass\n",
    "    user_id = rows[i].find_element(By.CLASS_NAME, 'qgLL3')\n",
    "    review_text = rows[i].find_element(By.CLASS_NAME, 'zPfVt')\n",
    "    number_visits = rows[i].find_elements(By.CLASS_NAME, 'CKUdu')[1]\n",
    "    visit_date = rows[i].find_elements(By.CLASS_NAME, 'CKUdu')[0].find_elements(By.CLASS_NAME, 'place_blind')[1]\n",
    "    \n",
    "    review_data['UserID'].append(user_id.text)\n",
    "    review_data['Review_Text'].append(review_text.text)\n",
    "    review_data['Date'].append(visit_date.text)\n",
    "    review_data['NumberOfVisit'].append(number_visits.text)\n",
    "    \n",
    "    # 로그 만들기\n",
    "    log_count += 1\n",
    "    if log_count > 0 and log_count % 20 == 0:\n",
    "        print(log_count, end= \" >>> \")\n",
    "print(\"End\")\n",
    "\n",
    "print(review_data)"
   ]
  },
  {
   "cell_type": "markdown",
   "metadata": {},
   "source": [
    "- 리뷰 갯수가 for문 range를 19로 설정하면 원래라면 200이 되어야 하지만 처음 더보기 버튼 누르기 전에 리뷰 10개가 있으므로 총 210개가 된다.\n",
    "- 하지만 지금 range 설정이 19로 되어있으면 190개가 되거나 혹은 200개가 되어있다. range 설정을 20으로 하면 200개가 되거나 210개가 된다.\n",
    "- 그리고 날짜도 표에 넣어야할거 같다."
   ]
  },
  {
   "cell_type": "code",
   "execution_count": 271,
   "metadata": {},
   "outputs": [
    {
     "name": "stdout",
     "output_type": "stream",
     "text": [
      "서울신라호텔 더 파크뷰\n"
     ]
    }
   ],
   "source": [
    "title = driver.find_element(By.CLASS_NAME, 'GHAhO').text\n",
    "print(title)"
   ]
  },
  {
   "cell_type": "code",
   "execution_count": 282,
   "metadata": {},
   "outputs": [],
   "source": [
    "# 데이터프레임 만들기\n",
    "df_reviews = pd.DataFrame(review_data)\n",
    "\n",
    "# .csv파일로 저장\n",
    "df_reviews.to_csv(\"./shilla_hotel_buffet_review_original.csv\")"
   ]
  },
  {
   "cell_type": "markdown",
   "metadata": {},
   "source": [
    "---"
   ]
  },
  {
   "cell_type": "markdown",
   "metadata": {},
   "source": [
    "- 함수로 만들어 정리해준다."
   ]
  },
  {
   "cell_type": "code",
   "execution_count": 352,
   "metadata": {},
   "outputs": [],
   "source": [
    "# Setting\n",
    "from selenium import webdriver\n",
    "from selenium.webdriver.chrome.options import Options\n",
    "from selenium.webdriver.common.keys import Keys\n",
    "from selenium.webdriver.common.by import By\n",
    "from selenium.webdriver.common.actions.action_builder import ActionBuilder\n",
    "from selenium.webdriver.common.actions.mouse_button import MouseButton\n",
    "from selenium.webdriver import ActionChains\n",
    "from selenium.webdriver.support.ui import WebDriverWait\n",
    "from selenium.webdriver.support import expected_conditions as EC\n",
    "import time\n",
    "import pandas as pd\n"
   ]
  },
  {
   "cell_type": "code",
   "execution_count": 358,
   "metadata": {},
   "outputs": [],
   "source": [
    "# Functions\n",
    "\n",
    "def open_url(url):\n",
    "    \"\"\"크롬 창을 열고 url에 접속하는 함수\"\"\"\n",
    "    # 크롬창 열기\n",
    "    options = Options()\n",
    "    driver = webdriver.Chrome(options = options)\n",
    "\n",
    "    # 창모드 전체화면으로 크기 늘리기\n",
    "    driver.maximize_window()\n",
    "\n",
    "    # 로딩시간: 페이지 로딩\n",
    "    wait = WebDriverWait(driver, 10)\n",
    "    wait.until(EC.presence_of_all_elements_located((By.TAG_NAME, 'body')))\n",
    "\n",
    "    # 네이버 리뷰 주소 접속하기\n",
    "    driver.get(url)\n",
    "\n",
    "    # 로딩시간: 페이지 로딩\n",
    "    wait = WebDriverWait(driver, 10)\n",
    "    wait.until(EC.presence_of_all_elements_located((By.TAG_NAME, 'body')))\n",
    "    \n",
    "    return driver\n",
    "\n",
    "def count_reviews(driver):\n",
    "    \"\"\"더보기 버튼을 통해 구하고자 하는 리뷰 갯수의 총 갯수를 구하는 함수\"\"\"\n",
    "    for num_reviews in range(19):\n",
    "        driver.find_element(By.CLASS_NAME, 'fvwqf').click()\n",
    "        time.sleep(1.5)\n",
    "    rows = driver.find_elements(By.CLASS_NAME, 'owAeM')\n",
    "\n",
    "    # rows의 개수를 세어 for문을 돌린다.\n",
    "    cnt = len(rows)\n",
    "    print(\"총 리뷰 개수:\", cnt)\n",
    "    \n",
    "    return rows, cnt"
   ]
  },
  {
   "cell_type": "code",
   "execution_count": 359,
   "metadata": {},
   "outputs": [],
   "source": [
    "def crawling_reviews(rows, cnt):\n",
    "    \"\"\"리뷰 데이터를 추출하는 함수\"\"\"\n",
    "    # 데이터 받을 빈 딕셔너리\n",
    "    review_data = {\"UserID\":[],\"Review_Text\":[],\"Date\":[], \"NumberOfVisit\":[]}\n",
    "    \n",
    "    # 리뷰 추출하기\n",
    "    log_count = 0\n",
    "    print(\"START\", end = \" >>> \")\n",
    "    for i in range(cnt):\n",
    "        # 리뷰 내용 더보기 버튼이 없는 리뷰들 예외구문\n",
    "        try:\n",
    "            rows[i].find_element(By.CLASS_NAME, 'Ky28p').click()\n",
    "        except:\n",
    "            pass\n",
    "        user_id = rows[i].find_element(By.CLASS_NAME, 'qgLL3')\n",
    "        review_text = rows[i].find_element(By.CLASS_NAME, 'zPfVt')\n",
    "        number_visits = rows[i].find_elements(By.CLASS_NAME, 'CKUdu')[1]\n",
    "        visit_date = rows[i].find_elements(By.CLASS_NAME, 'CKUdu')[0].find_elements(By.CLASS_NAME, 'place_blind')[1]\n",
    "        \n",
    "        review_data['UserID'].append(user_id.text)\n",
    "        review_data['Review_Text'].append(review_text.text)\n",
    "        review_data['Date'].append(visit_date.text)\n",
    "        review_data['NumberOfVisit'].append(number_visits.text)\n",
    "        \n",
    "        # 로그 만들기\n",
    "        log_count += 1\n",
    "        if log_count > 0 and log_count % 20 == 0:\n",
    "            print(log_count, end= \" >>> \")\n",
    "    print(\"End\")\n",
    "    \n",
    "    return review_data"
   ]
  },
  {
   "cell_type": "code",
   "execution_count": 360,
   "metadata": {},
   "outputs": [],
   "source": [
    "# Setting\n",
    "from selenium import webdriver\n",
    "from selenium.webdriver.chrome.options import Options\n",
    "from selenium.webdriver.common.keys import Keys\n",
    "from selenium.webdriver.common.by import By\n",
    "from selenium.webdriver.common.actions.action_builder import ActionBuilder\n",
    "from selenium.webdriver.common.actions.mouse_button import MouseButton\n",
    "from selenium.webdriver import ActionChains\n",
    "from selenium.webdriver.support.ui import WebDriverWait\n",
    "from selenium.webdriver.support import expected_conditions as EC\n",
    "import time\n",
    "import pandas as pd\n",
    "\n",
    "def get_review(url):\n",
    "    \"\"\"메인 함수\"\"\"\n",
    "    # 크롬 창 열기\n",
    "    print(f\"크롬 창을 열고 있습니다.\", end=\" \")\n",
    "    driver = open_url(url)\n",
    "    print()\n",
    "    \n",
    "    title = driver.find_element(By.CLASS_NAME, 'GHAhO').text\n",
    "\n",
    "    # 총 리뷰 개수 구하기\n",
    "    print(\"'{0}'의 리뷰를 가지고 오는 중입니다.\".format(title))\n",
    "    rows, cnt = count_reviews(driver)\n",
    "    \n",
    "    # 딕셔너리 만들기\n",
    "    review_data = crawling_reviews(rows,cnt)\n",
    "    \n",
    "    # 데이터프레임 만들기\n",
    "    print(\"데이터프레임으로 변환 중입니다.\",end=\" \")\n",
    "    df_reviews = pd.DataFrame(review_data)\n",
    "    print(\"... 완료!\")\n",
    "    \n",
    "    # .csv파일로 저장\n",
    "    df_reviews.to_csv(\"./shilla_hotel_buffet_review_original.csv\")\n",
    "    \n",
    "    driver.quit()\n",
    "    \n",
    "    return df_reviews"
   ]
  },
  {
   "cell_type": "code",
   "execution_count": 361,
   "metadata": {},
   "outputs": [
    {
     "name": "stdout",
     "output_type": "stream",
     "text": [
      "크롬 창을 열고 있습니다. \n",
      "'서울신라호텔 더 파크뷰'의 리뷰를 가지고 오는 중입니다.\n",
      "총 리뷰 개수: 200\n",
      "START >>> 20 >>> 40 >>> 60 >>> 80 >>> 100 >>> 120 >>> 140 >>> 160 >>> 180 >>> 200 >>> End\n",
      "데이터프레임으로 변환 중입니다. ... 완료!\n"
     ]
    }
   ],
   "source": [
    "url = \"https://pcmap.place.naver.com/restaurant/13166754/review/visitor\"\n",
    "\n",
    "shilla_hotel_buffet_review = get_review(url)"
   ]
  }
 ],
 "metadata": {
  "kernelspec": {
   "display_name": "study",
   "language": "python",
   "name": "python3"
  },
  "language_info": {
   "codemirror_mode": {
    "name": "ipython",
    "version": 3
   },
   "file_extension": ".py",
   "mimetype": "text/x-python",
   "name": "python",
   "nbconvert_exporter": "python",
   "pygments_lexer": "ipython3",
   "version": "3.11.9"
  }
 },
 "nbformat": 4,
 "nbformat_minor": 2
}

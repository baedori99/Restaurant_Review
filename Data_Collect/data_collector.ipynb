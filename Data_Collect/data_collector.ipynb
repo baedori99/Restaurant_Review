{
 "cells": [
  {
   "cell_type": "code",
   "execution_count": 170,
   "metadata": {},
   "outputs": [],
   "source": [
    "# Setting\n",
    "from selenium import webdriver\n",
    "from selenium.webdriver.chrome.options import Options\n",
    "from selenium.webdriver.common.keys import Keys\n",
    "from selenium.webdriver.common.by import By\n",
    "from selenium.webdriver.common.actions.action_builder import ActionBuilder\n",
    "from selenium.webdriver.common.actions.mouse_button import MouseButton\n",
    "from selenium.webdriver import ActionChains\n",
    "from selenium.webdriver.support.ui import WebDriverWait\n",
    "from selenium.webdriver.support import expected_conditions as EC\n",
    "import time\n",
    "import pandas as pd\n",
    "\n",
    "url = \"https://pcmap.place.naver.com/restaurant/13166754/review/visitor\""
   ]
  },
  {
   "cell_type": "code",
   "execution_count": 171,
   "metadata": {},
   "outputs": [],
   "source": [
    "# 크롬창 열기\n",
    "options = Options()\n",
    "driver = webdriver.Chrome(options = options)\n",
    "\n",
    "# 창모드 전체화면으로 크기 늘리기\n",
    "driver.maximize_window()\n",
    "\n",
    "# 로딩시간: 페이지 로딩\n",
    "wait = WebDriverWait(driver, 10)\n",
    "wait.until(EC.presence_of_all_elements_located((By.TAG_NAME, 'body')))\n",
    "\n",
    "# 네이버 리뷰 주소 접속하기\n",
    "driver.get(url)"
   ]
  },
  {
   "cell_type": "code",
   "execution_count": 173,
   "metadata": {},
   "outputs": [
    {
     "name": "stdout",
     "output_type": "stream",
     "text": [
      "신라호텔에 오면 정말 꼭 해야할 꿀팁 정리했습니다! 1. 발렛을 꼭하세요! 제휴카드가 있으면 무료지만 제휴카드가 없더라도 33000원 결제시 가발렛을 해주시고요, 체크인시간 아깝고, 주차장에서 왔다갔다, 짐옮기기 어려운 모든걸 해결할수있습니다. 여기서 꿀팁은 체크아웃전 전화로 0\n",
      "번 눌러서 차번호 알려주시면 미리 뺴주십니다. 일층내려와서 차뺴달라고하면 15~20분 걸려요! 2. 신라호텔 바로 주변 택시타고 기본요금, 차로도 주차가능한 맛집 중 맛집, 신라호텔이 비싸서 가성비 혹은 멋진 공간들을 찾으신다면, 을지로에 위치한 행2PM8PM 추천드립니다. 매일저녁\n",
      " 인디가수들의 라이브공연도 매일하고, 와인이나 맥주, 술도 저렴, 라자냐파스타와 몽둥이고기가 유명한곳이라 저녁에 코스로 들르기 좋은곳이에요!\n"
     ]
    }
   ],
   "source": [
    "rows = driver.find_elements(By.CLASS_NAME, 'owAeM')\n",
    "# 아이디\n",
    "user_id = rows[0].find_element(By.CLASS_NAME, 'qgLL3')\n",
    "\n",
    "# 리뷰 텍스트\n",
    "review_text = rows[0].find_element(By.CLASS_NAME, 'zPfVt')\n",
    "print(review_text.text)\n",
    "# 방문 횟수\n",
    "number_visits = rows[5].find_elements(By.CLASS_NAME, 'CKUdu')[1]"
   ]
  },
  {
   "cell_type": "markdown",
   "metadata": {},
   "source": [
    "- 리뷰내용 더보기 버튼을 누르는 것에 문제가 생김"
   ]
  },
  {
   "cell_type": "code",
   "execution_count": 103,
   "metadata": {},
   "outputs": [],
   "source": [
    "# 해결\n",
    "# 리뷰 내용 더보기 버튼 클릭\n",
    "# review_extend = rows[4].find_element(By.CLASS_NAME, 'Ky28p').click()\n",
    "temp = driver.find_element(By.CLASS_NAME, 'fvwqf').click()"
   ]
  },
  {
   "cell_type": "code",
   "execution_count": 174,
   "metadata": {},
   "outputs": [],
   "source": [
    "# 데이터를 받을 빈 딕셔너리\n",
    "# data = {\"UserID\":[],\"Review_Text\":[], \"NumberOfVisit\":[]}\n",
    "\n",
    "# 더보기 한번당 리뷰 10개씩\n",
    "# 몇개의 리뷰를 확인해야하나\n",
    "# 200개의 리뷰 확인\n",
    "for temp in range(20):\n",
    "    driver.find_element(By.CLASS_NAME, 'fvwqf').click()\n",
    "    time.sleep(1)\n",
    "\n",
    "\n",
    "# for i in range(200):\n",
    "    "
   ]
  },
  {
   "cell_type": "code",
   "execution_count": 176,
   "metadata": {},
   "outputs": [],
   "source": [
    "temp_rows = driver.find_elements(By.TAG_NAME, 'li')"
   ]
  },
  {
   "cell_type": "code",
   "execution_count": 181,
   "metadata": {},
   "outputs": [
    {
     "data": {
      "text/plain": [
       "10"
      ]
     },
     "execution_count": 181,
     "metadata": {},
     "output_type": "execute_result"
    }
   ],
   "source": [
    "len(rows)"
   ]
  },
  {
   "cell_type": "code",
   "execution_count": 177,
   "metadata": {},
   "outputs": [],
   "source": [
    "temp_list = []\n",
    "for i in range(200):\n",
    "    temp_rows = driver.find_elements(By.TAG_NAME, 'li')\n",
    "    temp_list.append(temp_rows)"
   ]
  },
  {
   "cell_type": "code",
   "execution_count": 178,
   "metadata": {},
   "outputs": [
    {
     "data": {
      "text/plain": [
       "200"
      ]
     },
     "execution_count": 178,
     "metadata": {},
     "output_type": "execute_result"
    }
   ],
   "source": [
    "len(temp_list)"
   ]
  },
  {
   "cell_type": "markdown",
   "metadata": {},
   "source": [
    "- 200개 이상이 나오게 한 뒤 200개까지만 추출하는 방법\n",
    "- 200개가 안나오는 것에 대한 오류 확인"
   ]
  }
 ],
 "metadata": {
  "kernelspec": {
   "display_name": "study",
   "language": "python",
   "name": "python3"
  },
  "language_info": {
   "codemirror_mode": {
    "name": "ipython",
    "version": 3
   },
   "file_extension": ".py",
   "mimetype": "text/x-python",
   "name": "python",
   "nbconvert_exporter": "python",
   "pygments_lexer": "ipython3",
   "version": "3.11.9"
  }
 },
 "nbformat": 4,
 "nbformat_minor": 2
}

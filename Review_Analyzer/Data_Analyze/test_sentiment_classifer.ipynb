{
 "cells": [
  {
   "cell_type": "markdown",
   "metadata": {},
   "source": [
    "## Pydantic을 사용하여 prompt 작성하기"
   ]
  },
  {
   "cell_type": "markdown",
   "metadata": {
    "vscode": {
     "languageId": "plaintext"
    }
   },
   "source": [
    "- `PydanticOutputParser`을 사용하여 긍/부정 분류를 한다."
   ]
  },
  {
   "cell_type": "markdown",
   "metadata": {},
   "source": [
    "- TEST"
   ]
  },
  {
   "cell_type": "code",
   "execution_count": 12,
   "metadata": {},
   "outputs": [],
   "source": [
    "import pandas as pd\n",
    "import json\n",
    "from typing import List, Dict\n",
    "from langchain_openai import ChatOpenAI\n",
    "from langchain_core.prompts import PromptTemplate\n",
    "from langchain_core.pydantic_v1 import BaseModel, Field\n",
    "from langchain_core.output_parsers import PydanticOutputParser\n",
    "from langchain_core.runnables import RunnableParallel, RunnablePassthrough\n",
    "from dotenv import load_dotenv\n",
    "import re\n",
    "\n",
    "load_dotenv()\n",
    "model = ChatOpenAI(model_name=\"gpt-3.5-turbo\")\n"
   ]
  },
  {
   "cell_type": "code",
   "execution_count": 8,
   "metadata": {},
   "outputs": [],
   "source": [
    "class Personality(BaseModel):\n",
    "    category: str = Field(description=\"MBTI유형 이름\")\n",
    "    info: List[str] = Field(description=\"MBTI유형의 특징\")\n",
    "    \n",
    "personality_query = \"랜덤 MBTI 유형의 특징을 출력해주세요.\"\n",
    "    \n",
    "output_parser = PydanticOutputParser(pydantic_object=Personality)"
   ]
  },
  {
   "cell_type": "code",
   "execution_count": 9,
   "metadata": {},
   "outputs": [
    {
     "data": {
      "text/plain": [
       "Personality(category='INFP', info=['Idealistic', 'Creative', 'Empathetic', 'Sensitive'])"
      ]
     },
     "execution_count": 9,
     "metadata": {},
     "output_type": "execute_result"
    }
   ],
   "source": [
    "\n",
    "\n",
    "prompt = PromptTemplate(\n",
    "    template = \"Answer the user query.\\n{format_instructions}\\n{query}\\n\",\n",
    "    input_variables=[\"query\"],\n",
    "    partial_variables={\"format_instructions\": output_parser.get_format_instructions()},\n",
    ")\n",
    "chain = prompt | model | output_parser\n",
    "chain.invoke({\"query\": personality_query})"
   ]
  },
  {
   "cell_type": "markdown",
   "metadata": {},
   "source": [
    "---"
   ]
  },
  {
   "cell_type": "code",
   "execution_count": 10,
   "metadata": {},
   "outputs": [],
   "source": [
    "class Personality(BaseModel):\n",
    "    category: str = Field(description=\"MBTI유형 이름\")\n",
    "    info: str = Field(description=\"MBTI유형의 특징\")\n",
    "    \n",
    "personality_query = \"랜덤 MBTI 유형의 특징을 출력해주세요.\"\n",
    "    \n",
    "output_parser = PydanticOutputParser(pydantic_object=Personality)"
   ]
  },
  {
   "cell_type": "code",
   "execution_count": 11,
   "metadata": {},
   "outputs": [
    {
     "data": {
      "text/plain": [
       "Personality(category='INTJ', info='INTJ 유형은 독립적이고 논리적이며 창의적인 편입니다. 계획을 세우고 목표를 이루는 데 능숙하며 분석적인 사고를 가지고 있습니다.')"
      ]
     },
     "execution_count": 11,
     "metadata": {},
     "output_type": "execute_result"
    }
   ],
   "source": [
    "\n",
    "\n",
    "prompt = PromptTemplate(\n",
    "    template = \"Answer the user query.\\n{format_instructions}\\n{query}\\n\",\n",
    "    input_variables=[\"query\"],\n",
    "    partial_variables={\"format_instructions\": output_parser.get_format_instructions()},\n",
    ")\n",
    "chain = prompt | model | output_parser\n",
    "chain.invoke({\"query\": personality_query})"
   ]
  },
  {
   "cell_type": "markdown",
   "metadata": {},
   "source": [
    "---"
   ]
  },
  {
   "cell_type": "code",
   "execution_count": 17,
   "metadata": {},
   "outputs": [],
   "source": [
    "\n",
    "# class Sentiment_classifier(BaseModel):\n",
    "#     text: str = Field(description=\"리뷰 글\")\n",
    "#     classify: Dict[str, str] = Field(description= \"음식의 긍정, 부정을 분류한다.\")\n",
    "    \n",
    "# sentiment_query = \"리뷰 글의 음식별 긍/부정을 분류하여 출력하세요.\"\n",
    "# output_parser = PydanticOutputParser(pydantic_object=Sentiment_classifier)\n",
    "\n",
    "# template = \"\"\"\\\n",
    "# # INSTRUCTION\n",
    "# - 당신은 SENTENCE에서 음식별 긍/부정을 분류하는 역할입니다.\n",
    "# - 유저 쿼리에 대답하세요.\\n{query}\\n\n",
    "\n",
    "# # SENTENCE: 양념게장비빔밥은 맛있지만 튀김은 맛없었습니다.\n",
    "# \"\"\"\n",
    "\n",
    "# prompt = PromptTemplate.from_template(template)\n",
    "\n",
    "# chain = prompt | model | output_parser\n",
    "# response = chain.invoke({\"query\": sentiment_query})"
   ]
  },
  {
   "cell_type": "markdown",
   "metadata": {},
   "source": [
    "---\n",
    "\n",
    "- 연구원님의 깃허브 따라해보기\n"
   ]
  },
  {
   "cell_type": "code",
   "execution_count": 18,
   "metadata": {},
   "outputs": [],
   "source": [
    "from typing import Dict, List, Optional\n",
    "\n",
    "from langchain_openai import ChatOpenAI\n",
    "from langchain_core.prompts import PromptTemplate\n",
    "from langchain_core.pydantic_v1 import BaseModel, Field\n",
    "from langchain_core.output_parsers import PydanticOutputParser\n",
    "\n",
    "load_dotenv()\n",
    "model = ChatOpenAI(model_name=\"gpt-3.5-turbo\")"
   ]
  },
  {
   "cell_type": "code",
   "execution_count": 20,
   "metadata": {},
   "outputs": [
    {
     "data": {
      "text/plain": [
       "ReviewModel(category='맛', action=ActionModel(positive=['스테이크', '대게'], negative=['가격']))"
      ]
     },
     "execution_count": 20,
     "metadata": {},
     "output_type": "execute_result"
    }
   ],
   "source": [
    "class ActionModel(BaseModel):\n",
    "    positive: List[str] = Field(description=\"긍정을 나타내는 키워드\")\n",
    "    negative: List[str] = Field(description=\"부정을 나타내는 키워드\")\n",
    "    \n",
    "class ReviewModel(BaseModel):\n",
    "    category: str = Field(description=\"CATEGORY 문자열\")\n",
    "    action: ActionModel\n",
    "    \n",
    "parser = PydanticOutputParser(pydantic_object = ReviewModel)\n",
    "\n",
    "template = \"\"\"\\\n",
    "# INSTRUCTION\n",
    "- 당신은 SENTENCE에서 CATEGORY에 따라 긍/부정에 해당하는 키워드를 분류하는 역할입니다.\n",
    "- 키워드는 긍/부정의 대상이며, 명사만 추출하세요.\n",
    "- FORMAT에 맞춰 답변하세요.\n",
    "\n",
    "# FORMAT: {format_instructions}\n",
    "# NOUNS: {nouns}\n",
    "# CATEGORY: {category}\n",
    "# SENTENCE: {sentence}\n",
    "\"\"\"\n",
    "\n",
    "nouns = \"직원 친절 음식 맛 대한민국 호텔 뷔페 뭐 조금 입장 융통 부패 혁명\"\n",
    "category = \"맛\"\n",
    "sentence = \"스테이크는 오늘은 맛있어요 파크뷰는 대게 맛집 가격이 올라서 솔직히 155만 원 대비 가성비는 이 젠 별로 인 것 같아 요 발레할 경우에만 주차 편해요 비 오는 오늘 같은 경우 발레 안했음\"\n",
    "prompt = PromptTemplate.from_template(template)\n",
    "prompt = prompt.partial(format_instructions = parser.get_format_instructions())\n",
    "output_parser = PydanticOutputParser(pydantic_object=ReviewModel)\n",
    "chain = prompt | model | output_parser\n",
    "chain.invoke({\"nouns\":nouns, \"category\": category, \"sentence\": sentence})"
   ]
  },
  {
   "cell_type": "code",
   "execution_count": 21,
   "metadata": {},
   "outputs": [
    {
     "data": {
      "text/plain": [
       "ReviewModel(category='맛', action=ActionModel(positive=['스테이크', '대게'], negative=['가성비']))"
      ]
     },
     "execution_count": 21,
     "metadata": {},
     "output_type": "execute_result"
    }
   ],
   "source": [
    "class ActionModel(BaseModel):\n",
    "    positive: List[str] = Field(description=\"긍정을 나타내는 키워드\")\n",
    "    negative: List[str] = Field(description=\"부정을 나타내는 키워드\")\n",
    "    \n",
    "class ReviewModel(BaseModel):\n",
    "    category: str = Field(description=\"CATEGORY 문자열\")\n",
    "    action: ActionModel\n",
    "    \n",
    "parser = PydanticOutputParser(pydantic_object = ReviewModel)\n",
    "\n",
    "template = \"\"\"\\\n",
    "# INSTRUCTION\n",
    "- 당신은 SENTENCE에서 CATEGORY에 따라 긍/부정에 해당하는 키워드를 분류하는 역할입니다.\n",
    "- 키워드는 긍/부정의 대상이며, 명사만 추출하세요.\n",
    "- FORMAT에 맞춰 답변하세요.\n",
    "\n",
    "# FORMAT: {format_instructions}\n",
    "# CATEGORY: {category}\n",
    "# SENTENCE: {sentence}\n",
    "\"\"\"\n",
    "\n",
    "category = \"맛\"\n",
    "sentence = \"스테이크는 오늘은 맛있어요 파크뷰는 대게 맛집 가격이 올라서 솔직히 155만 원 대비 가성비는 이 젠 별로 인 것 같아 요 발레할 경우에만 주차 편해요 비 오는 오늘 같은 경우 발레 안했음\"\n",
    "prompt = PromptTemplate.from_template(template)\n",
    "prompt = prompt.partial(format_instructions = parser.get_format_instructions())\n",
    "output_parser = PydanticOutputParser(pydantic_object=ReviewModel)\n",
    "chain = prompt | model | output_parser\n",
    "chain.invoke({\"category\": category, \"sentence\": sentence})"
   ]
  }
 ],
 "metadata": {
  "kernelspec": {
   "display_name": "study",
   "language": "python",
   "name": "python3"
  },
  "language_info": {
   "codemirror_mode": {
    "name": "ipython",
    "version": 3
   },
   "file_extension": ".py",
   "mimetype": "text/x-python",
   "name": "python",
   "nbconvert_exporter": "python",
   "pygments_lexer": "ipython3",
   "version": "3.11.9"
  }
 },
 "nbformat": 4,
 "nbformat_minor": 2
}

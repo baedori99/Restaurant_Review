{
 "cells": [
  {
   "cell_type": "code",
   "execution_count": 34,
   "metadata": {},
   "outputs": [
    {
     "data": {
      "text/plain": [
       "True"
      ]
     },
     "execution_count": 34,
     "metadata": {},
     "output_type": "execute_result"
    }
   ],
   "source": [
    "import pandas as pd\n",
    "from langchain_openai import ChatOpenAI\n",
    "from langchain_core.prompts import PromptTemplate\n",
    "from langchain_core.output_parsers import StrOutputParser\n",
    "from langchain_core.runnables import RunnablePassthrough, RunnableParallel\n",
    "from dotenv import load_dotenv\n",
    "\n",
    "\n",
    "load_dotenv()"
   ]
  },
  {
   "cell_type": "code",
   "execution_count": 8,
   "metadata": {},
   "outputs": [],
   "source": [
    "temp_review = pd.read_csv(\"C:/Users/pps/Desktop/Restaurant_Review/Review_Analyzer/Data_Analyze/S_hotel_buffet_review_parse.csv\")"
   ]
  },
  {
   "cell_type": "code",
   "execution_count": 62,
   "metadata": {},
   "outputs": [],
   "source": [
    "review = temp_review.head(10)"
   ]
  },
  {
   "cell_type": "code",
   "execution_count": 58,
   "metadata": {},
   "outputs": [],
   "source": [
    "sentence = temp_review.Review_Text[0]"
   ]
  },
  {
   "cell_type": "code",
   "execution_count": 59,
   "metadata": {},
   "outputs": [
    {
     "data": {
      "text/plain": [
       "'직원 분들 너무 친절하시고 음식 맛은 대한민국 호텔 뷔페 넘버 원인데 말해 뭐 해입니다 조금씩 일찍 입장시켜주시는 융통성도 좋아요 쪼금 아쉬운 건 의 외로 과일류 구색이 약하다는 거'"
      ]
     },
     "execution_count": 59,
     "metadata": {},
     "output_type": "execute_result"
    }
   ],
   "source": [
    "sentence\n",
    "# 처음 방문해 보는 더 파크뷰 랜덤이라 하셨는데 창문 자리로 안내해 주셨어요 금요일 저녁이었는데도 설날 전이 긴 했지만 사람 많았어요 확실히 육류보단 해산물이 더 맛있었어 요대게 수율도 좋았습니다 그리고 정말 배부른 와중에도 너무 맛있게 느낀 마카롱들 디저트 넘넘 맛있더라고요 친절함은 말해 뭐 해 너무 좋았습니다"
   ]
  },
  {
   "cell_type": "code",
   "execution_count": 60,
   "metadata": {},
   "outputs": [
    {
     "data": {
      "text/plain": [
       "[AIMessage(content=\"{'category': '맛'}: 긍정\", response_metadata={'token_usage': {'completion_tokens': 11, 'prompt_tokens': 245, 'total_tokens': 256}, 'model_name': 'gpt-3.5-turbo', 'system_fingerprint': None, 'finish_reason': 'stop', 'logprobs': None}, id='run-b5ad7523-2d9c-4607-9c2d-7d9783ec5e8a-0', usage_metadata={'input_tokens': 245, 'output_tokens': 11, 'total_tokens': 256}),\n",
       " AIMessage(content='{\"category\": \"서비스\"}: \"긍정\"', response_metadata={'token_usage': {'completion_tokens': 14, 'prompt_tokens': 248, 'total_tokens': 262}, 'model_name': 'gpt-3.5-turbo', 'system_fingerprint': None, 'finish_reason': 'stop', 'logprobs': None}, id='run-4bbbae6f-f40b-4cc7-a68f-0b25e95fb045-0', usage_metadata={'input_tokens': 248, 'output_tokens': 14, 'total_tokens': 262}),\n",
       " AIMessage(content='{\\'category\\': \\'가격\\'}: \"부정\"', response_metadata={'token_usage': {'completion_tokens': 13, 'prompt_tokens': 248, 'total_tokens': 261}, 'model_name': 'gpt-3.5-turbo', 'system_fingerprint': None, 'finish_reason': 'stop', 'logprobs': None}, id='run-19cbffc5-abb4-4356-a2d4-0abe6a6c0fb0-0', usage_metadata={'input_tokens': 248, 'output_tokens': 13, 'total_tokens': 261})]"
      ]
     },
     "execution_count": 60,
     "metadata": {},
     "output_type": "execute_result"
    }
   ],
   "source": [
    "model = ChatOpenAI(model_name = \"gpt-3.5-turbo\")\n",
    "output_parser = StrOutputParser()\n",
    "\n",
    "template = \"\"\"\\\n",
    "# INSTRUCTION\n",
    "- 당신은 긍/부정 분류기입니다.\n",
    "- {category}에 대한 평가가 긍정적인지 부정적인지를 분류하세요.\n",
    "- {category}에 대한 평가가 없는 경우 '-'을 표시하세요.\n",
    "- 결과를 다음과 같은 딕셔너리 형식으로 출력하세요.\n",
    "\n",
    "    \"{category}\": \"긍정/부정/-\"\n",
    "    \n",
    "# SENTENCE: \"직원 분들 너무 친절하시고 음식 맛은 대한민국 호텔 뷔페 넘버 원인데 말해 뭐 해입니다 조금씩 일찍 입장시켜주시는 융통성도 좋아요 쪼금 아쉬운 건 의 외로 과일류 구색이 약하다는 거\"\n",
    "\"\"\"\n",
    "\n",
    "prompt = PromptTemplate.from_template(template)\n",
    "runnable = {\"category\": RunnablePassthrough()}\n",
    "# runnable = {\"category\":}\n",
    "chain = runnable | prompt | model\n",
    "\n",
    "# input_data = [\n",
    "#     {\"category\":\"맛\"},\n",
    "#     {\"category\":\"서비스\"},\n",
    "#     {\"category\":\"가격\"}\n",
    "# ]\n",
    "\n",
    "chain.batch([\n",
    "    {\"category\":\"맛\"},\n",
    "    {\"category\":\"서비스\"},\n",
    "    {\"category\":\"가격\"}\n",
    "])\n",
    "\n",
    "# await chain.abatch([\n",
    "#     {\"category\":\"맛\", \"sentence\": sentence},\n",
    "#     {\"category\":\"서비스\", \"sentence\": sentence},\n",
    "#     {\"category\":\"가격\", \"sentence\": sentence}\n",
    "# ])\n",
    "# await chain.abatch([\n",
    "#     {\"category\":\"맛\"},\n",
    "#     {\"category\":\"서비스\"},\n",
    "#     {\"category\":\"가격\"}\n",
    "# ])\n"
   ]
  },
  {
   "cell_type": "code",
   "execution_count": 63,
   "metadata": {},
   "outputs": [
    {
     "name": "stdout",
     "output_type": "stream",
     "text": [
      "[{'taste': '{\\n    \"맛\": \"긍정\"\\n}', 'service': '{\\n    \"서비스\": \"긍정\"\\n}', 'price': '{\\n    \"가격\": \"-\"\\n}'}]\n",
      "[{'taste': '{\\n    \"맛\": \"긍정\"\\n}', 'service': '{\\n    \"서비스\": \"긍정\"\\n}', 'price': '{\"가격\": \"긍정\"}'}]\n",
      "[{'taste': '{\\n    \"맛\": \"-\"\\n}', 'service': '{\\n    \"서비스\": \"긍정\"\\n}', 'price': '{\\n    \"가격\": \"긍정\"\\n}'}]\n",
      "[{'taste': '{\\n    \"맛\": \"부정\"\\n}', 'service': '{\\n    \"서비스\": \"긍정\"\\n}', 'price': '{\\n    \"가격\": \"부정\"\\n}'}]\n",
      "[{'taste': '{\\n    \"맛\": \"긍정\"\\n}', 'service': '{\\n    \"서비스\": \"긍정\"\\n}', 'price': '{\\n    \"가격\": \"-\"\\n}'}]\n",
      "[{'taste': '{\\n    \"맛\": \"긍정\"\\n}', 'service': '{\\n    \"서비스\": \"긍정\"\\n}', 'price': '{\\n    \"가격\": \"긍정\"\\n}'}]\n",
      "[{'taste': '{\\n    \"맛\": \"긍정\"\\n}', 'service': '{\\n    \"서비스\": \"긍정\"\\n}', 'price': '{\\n    \"가격\": \"-\"\\n}'}]\n",
      "[{'taste': '{\\n    \"맛\": \"긍정\"\\n}', 'service': '{\\n    \"서비스\": \"긍정\"\\n}', 'price': '{\\n    \"가격\": \"긍정\"\\n}'}]\n",
      "[{'taste': '{\\n    \"맛\": \"긍정\"\\n}', 'service': '{\\n    \"서비스\": \"긍정\"\\n}', 'price': '{\\n    \"가격\": \"긍정\"\\n}'}]\n",
      "[{'taste': '{\\n    \"맛\": \"긍정\"\\n}', 'service': '{\\n    \"서비스\": \"긍정\"\\n}', 'price': '{\"가격\": \"긍정\"}'}]\n"
     ]
    }
   ],
   "source": [
    "model = ChatOpenAI(model_name = \"gpt-3.5-turbo\")\n",
    "output_parser = StrOutputParser()\n",
    "\n",
    "template1 = \"\"\"\\\n",
    "# INSTRUCTION\n",
    "- 당신은 긍/부정 분류기입니다.\n",
    "- 맛에 대한 평가가 긍정적인지 부정적인지를 분류하세요.\n",
    "- 맛에 대한 평가가 없는 경우 '-'을 표시하세요.\n",
    "- 결과를 다음과 같은 딕셔너리 형식으로 출력하세요.\n",
    "\n",
    "    \"맛\": \"긍정/부정/-\"\n",
    "    \n",
    "# SENTENCE: {sentence}\n",
    "\"\"\"\n",
    "\n",
    "template2 = \"\"\"\\\n",
    "# INSTRUCTION\n",
    "- 당신은 긍/부정 분류기입니다.\n",
    "- 서비스에 대한 평가가 긍정적인지 부정적인지를 분류하세요.\n",
    "- 서비스에 대한 평가가 없는 경우 '-'을 표시하세요.\n",
    "- 결과를 다음과 같은 딕셔너리 형식으로 출력하세요.\n",
    "\n",
    "    \"서비스\": \"긍정/부정/-\"\n",
    "    \n",
    "# SENTENCE: {sentence}\n",
    "\"\"\"\n",
    "\n",
    "template3 = \"\"\"\\\n",
    "# INSTRUCTION\n",
    "- 당신은 긍/부정 분류기입니다.\n",
    "- 가격에 대한 평가가 긍정적인지 부정적인지를 분류하세요.\n",
    "- 가격에 대한 평가가 없는 경우 '-'을 표시하세요.\n",
    "- 결과를 다음과 같은 딕셔너리 형식으로 출력하세요.\n",
    "\n",
    "    \"가격\": \"긍정/부정/-\"\n",
    "    \n",
    "# SENTENCE: {sentence}\n",
    "\"\"\"\n",
    "\n",
    "prompt1 = PromptTemplate.from_template(template1)\n",
    "prompt2 = PromptTemplate.from_template(template2)\n",
    "prompt3 = PromptTemplate.from_template(template3)\n",
    "\n",
    "chain1 = prompt1 | model | output_parser\n",
    "chain2 = prompt2 | model | output_parser\n",
    "chain3 = prompt3 | model | output_parser\n",
    "\n",
    "combined = RunnableParallel(\n",
    "    taste = chain1,\n",
    "    service = chain2,\n",
    "    price = chain3,\n",
    ")\n",
    "\n",
    "for i in range(len(review)):\n",
    "    result = await combined.abatch([{\"sentence\": temp_review.Review_Text[i]}])\n",
    "    print(result)\n",
    "\n"
   ]
  },
  {
   "cell_type": "code",
   "execution_count": 53,
   "metadata": {},
   "outputs": [
    {
     "data": {
      "text/plain": [
       "{'input': '다람쥐'}"
      ]
     },
     "execution_count": 53,
     "metadata": {},
     "output_type": "execute_result"
    }
   ],
   "source": [
    "cat = \"맛\"\n",
    "add_runnable = RunnablePassthrough(lambda x: \"안뇽\")\n",
    "add_runnable.invoke({\"input\": \"다람쥐\"})"
   ]
  },
  {
   "cell_type": "code",
   "execution_count": 54,
   "metadata": {},
   "outputs": [
    {
     "data": {
      "text/plain": [
       "{'input': '다람쥐', 'taste': '안뇽'}"
      ]
     },
     "execution_count": 54,
     "metadata": {},
     "output_type": "execute_result"
    }
   ],
   "source": [
    "cat = \"맛\"\n",
    "add_runnable = RunnablePassthrough.assign(taste = lambda x: \"안뇽\")\n",
    "add_runnable.invoke({\"input\": \"다람쥐\"})"
   ]
  },
  {
   "cell_type": "code",
   "execution_count": 65,
   "metadata": {},
   "outputs": [
    {
     "data": {
      "text/plain": [
       "{'input': '다람쥐', 'taste': '안뇽'}"
      ]
     },
     "execution_count": 65,
     "metadata": {},
     "output_type": "execute_result"
    }
   ],
   "source": [
    "runnable = {\"input\": RunnablePassthrough()}\n",
    "add_runnable = RunnablePassthrough.assign(taste = lambda x: \"안뇽\")\n",
    "\n",
    "(runnable | add_runnable).invoke(\"다람쥐\")"
   ]
  },
  {
   "cell_type": "markdown",
   "metadata": {},
   "source": [
    "---"
   ]
  },
  {
   "cell_type": "markdown",
   "metadata": {},
   "source": [
    "- 연구원님이 알려주신 prompt안에 하나의 변수만 바꾸고 싶을 때 쓰는 방법이다."
   ]
  },
  {
   "cell_type": "code",
   "execution_count": 64,
   "metadata": {},
   "outputs": [
    {
     "data": {
      "text/plain": [
       "{'taste': {'맛반응': '부정'},\n",
       " 'service': {'서비스반응': '긍정'},\n",
       " 'price': {'음식맛': '긍정', '서비스': '긍정', '가격': '부정', '분위기': '긍정'}}"
      ]
     },
     "execution_count": 64,
     "metadata": {},
     "output_type": "execute_result"
    }
   ],
   "source": [
    "from langchain_openai import ChatOpenAI\n",
    "from langchain_core.prompts import PromptTemplate\n",
    "from langchain_core.output_parsers import JsonOutputParser\n",
    "from langchain_core.runnables import RunnablePassthrough, RunnableParallel\n",
    "from operator import itemgetter\n",
    "\n",
    "template = \"\"\"\\\n",
    "# INSTRUCTION\n",
    "- 당신은 {sentence}에서 {category}에 따라 긍/부정을 분류하는 역할입니다.\n",
    "- {category}에 대한 반응을 [긍정, 부정, -] 중 하나로 분류하세요\n",
    "- JSON 형식으로 출력하세요\n",
    "\"\"\"\n",
    "\n",
    "prompt = PromptTemplate.from_template(template)\n",
    "model = ChatOpenAI(model_name = \"gpt-3.5-turbo\")\n",
    "output_parser = JsonOutputParser()\n",
    "chain = prompt | model | output_parser\n",
    "\n",
    "def make_runnable(text):\n",
    "    return RunnablePassthrough.assign(category = lambda _: text)\n",
    "\n",
    "combined = RunnableParallel(\n",
    "    taste = make_runnable(\"맛\") | chain,\n",
    "    service = make_runnable(\"서비스\") | chain,\n",
    "    price = make_runnable(\"가격\") | chain,\n",
    ")\n",
    "\n",
    "review = \"직원분들 너무 친절하시고 음식맛은 대한민국 호텔부페 넘버원인데 말해뭐해 입니다 조금씩 일찍 입장 시켜주시는 융통성도 좋아요 쬐끔 아쉬운건 의외로 과일류 구색이 약하다는 거\"\n",
    "\n",
    "combined.invoke({\"sentence\": review})"
   ]
  }
 ],
 "metadata": {
  "kernelspec": {
   "display_name": "study",
   "language": "python",
   "name": "python3"
  },
  "language_info": {
   "codemirror_mode": {
    "name": "ipython",
    "version": 3
   },
   "file_extension": ".py",
   "mimetype": "text/x-python",
   "name": "python",
   "nbconvert_exporter": "python",
   "pygments_lexer": "ipython3",
   "version": "3.11.9"
  }
 },
 "nbformat": 4,
 "nbformat_minor": 2
}

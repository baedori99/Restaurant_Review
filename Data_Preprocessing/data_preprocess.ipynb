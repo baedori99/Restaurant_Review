{
 "cells": [
  {
   "cell_type": "markdown",
   "metadata": {},
   "source": [
    "# 데이터 전처리"
   ]
  },
  {
   "cell_type": "markdown",
   "metadata": {},
   "source": [
    "## 최종 코드"
   ]
  },
  {
   "cell_type": "markdown",
   "metadata": {},
   "source": [
    "### 특수문자, 기호, 한글 초성 제거"
   ]
  },
  {
   "cell_type": "code",
   "execution_count": 107,
   "metadata": {},
   "outputs": [],
   "source": [
    "# Setting\n",
    "\n",
    "import pandas as pd\n",
    "import re\n",
    "\n",
    "\n",
    "\n",
    "def text_preprocessing(df_reviews):\n",
    "    \"\"\"Review_Text의 리뷰글을 전처리 하는 함수\"\"\"\n",
    "    for i in range(len(df_reviews)):\n",
    "        text = df_reviews['Review_Text'][i]\n",
    "    \n",
    "        if not isinstance(text, str):\n",
    "            text = str(text)\n",
    "        temp = re.sub('[^가-힣a-zA-Z0-9\\s]', '',text)\n",
    "\n",
    "        df_reviews.loc[[i],['Review_Text']] = temp\n",
    "        \n",
    "    df_reviews['Review_Text'] = df_reviews['Review_Text'].str.replace('\\n','')\n",
    "    df_reviews = df_reviews.drop('Unnamed: 0', axis = 1)\n",
    "    # df_reviews['Review_Text'] = df_reviews['Review_Text'].str.replace('nan', '')\n",
    "    df_reviews.drop(df_reviews[df_reviews['Review_Text'] == 'nan'].index, inplace=True)\n",
    "    df_reviews.drop(df_reviews[df_reviews['Review_Text'] == ''].index, inplace=True)\n",
    "    df_reviews.to_csv('./S_hotel_buffet_review_data_preprocess.csv')\n",
    "    \n",
    "    return df_reviews"
   ]
  },
  {
   "cell_type": "code",
   "execution_count": 108,
   "metadata": {},
   "outputs": [],
   "source": [
    "# 실행\n",
    "shilla_hotel_buffet_review = pd.read_csv(\"C:/Users/pps/Desktop/Restaurant_Review/Data_Collect/shilla_hotel_buffet_review_original.csv\", encoding='utf-8')\n",
    "\n",
    "S_hotel_buffet_preprocess_review = text_preprocessing(shilla_hotel_buffet_review)"
   ]
  },
  {
   "cell_type": "markdown",
   "metadata": {},
   "source": [
    "### 맞춤법 확인"
   ]
  },
  {
   "cell_type": "code",
   "execution_count": 109,
   "metadata": {},
   "outputs": [],
   "source": [
    "# Setting\n",
    "from hanspell import spell_checker\n",
    "\n",
    "requestURL = \"https://m.search.naver.com/p/csearch/ocontent/util/SpellerProxy?passportKey=90ae3cbdae22968de3f12b9095f35ea488ecf40b&_callback=jQuery112406350187405022272_1718946457167&q=%EB%A7%9E%EC%B6%A4%EB%B2%95+%EA%B2%80%EC%82%AC%EB%A5%BC+%EC%9B%90%ED%95%98%EB%8A%94+%EB%8B%A8%EC%96%B4%EB%82%98+%EB%AC%B8%EC%9E%A5%EC%9D%84+%EC%9E%85%EB%A0%A5%ED%95%B4+%EC%A3%BC%EC%84%B8%EC%9A%94.&where=nexearch&color_blindness=0&_=1718946457168\"\n",
    "\n",
    "def ReviewSpellChecker(df_reviews):\n",
    "    \"\"\"Review_Text의 맞춤법 고치는 함수\"\"\"\n",
    "    for i in range(len(df_reviews)):\n",
    "        sentence = df_reviews['Review_Text'][i]\n",
    "        if len(sentence) > 0:\n",
    "            result = spell_checker.check(df_reviews['Review_Text'][i], requestURL).checked\n",
    "        else:\n",
    "            result = \"\"\n",
    "        df_reviews.loc[i, 'Review_Text'] = result\n",
    "        \n",
    "    df_reviews = df_reviews.drop('Unnamed: 0', axis = 1)\n",
    "    df_reviews.to_csv('./S_hotel_buffet_review_spellchecker.csv')\n",
    "    return df_reviews"
   ]
  },
  {
   "cell_type": "code",
   "execution_count": 110,
   "metadata": {},
   "outputs": [],
   "source": [
    "# 실행\n",
    "\n",
    "buffet_preprocess_review = pd.read_csv(\"C:/Users/pps/Desktop/Restaurant_Review/Data_Preprocessing/S_hotel_buffet_review_data_preprocess.csv\")\n",
    "buffet_spellchecker_review = ReviewSpellChecker(buffet_preprocess_review)"
   ]
  },
  {
   "cell_type": "markdown",
   "metadata": {},
   "source": [
    "### spacing 확인"
   ]
  },
  {
   "cell_type": "code",
   "execution_count": 225,
   "metadata": {},
   "outputs": [],
   "source": [
    "# Setting\n",
    "from pykospacing import Spacing\n",
    "spacing = Spacing()\n",
    "\n",
    "def checkSpacing(df_reviews):\n",
    "    \"\"\"Review_Text의 띄어쓰기 오류 고치는 함수\"\"\"\n",
    "    for i in range(len(df_reviews)):\n",
    "        print(i, df_reviews[\"Review_Text\"][i])\n",
    "        test_space = spacing(df_reviews[\"Review_Text\"][i])\n",
    "        df_reviews.loc[i, 'Review_Text'] = test_space\n",
    "    df_reviews = df_reviews.drop('Unnamed: 0', axis = 1)\n",
    "    df_reviews.to_csv('./S_hotel_buffet_review_spacingcheck.csv')\n",
    "    return df_reviews"
   ]
  },
  {
   "cell_type": "code",
   "execution_count": null,
   "metadata": {},
   "outputs": [],
   "source": [
    "# 실행\n",
    "\n",
    "spellchecker_review = pd.read_csv(\"C:/Users/pps/Desktop/Restaurant_Review/Data_Preprocessing/S_hotel_buffet_review_spellchecker.csv\")\n",
    "spacingcheck_review = checkSpacing(spellchecker_review)\n"
   ]
  },
  {
   "cell_type": "markdown",
   "metadata": {},
   "source": [
    "### 문장의 길이 확인하여 이상치를 찾고 이상치 제거"
   ]
  },
  {
   "cell_type": "code",
   "execution_count": 129,
   "metadata": {},
   "outputs": [],
   "source": [
    "# Setting\n",
    "import pandas as pd\n",
    "\n",
    "\n",
    "def find_reviewlength(df_reviews):\n",
    "    \"\"\"리뷰글의 길이를 추출하는 함수\"\"\"\n",
    "    review_strlength = {\"리뷰 길이\":[]}\n",
    "    for i in range(len(df_reviews)):\n",
    "        temp_length = len(df_reviews[\"Review_Text\"][i])\n",
    "        review_strlength[\"리뷰 길이\"].append(temp_length)\n",
    "        \n",
    "    df_temp_review_strlength = pd.DataFrame(review_strlength)\n",
    "    return df_temp_review_strlength\n",
    "\n",
    "def find_IQR(df_length_reviews,df_reviews):\n",
    "    \"\"\"IQR방식을 이용한 이상치를 찾아 제거하는 함수\"\"\"\n",
    "    new_df_length = df_length_reviews.copy()\n",
    "    new_df_reviews = df_reviews.copy()\n",
    "    Q1 = new_df_length[\"리뷰 길이\"].quantile(q=0.25)\n",
    "    Q3 = new_df_length[\"리뷰 길이\"].quantile(q=0.75)\n",
    "    IQR = Q3 - Q1\n",
    "    IQR_df = new_df_length[(new_df_length[\"리뷰 길이\"] >= Q3 + 1.5 * IQR) | (new_df_length[\"리뷰 길이\"] <= Q1 - 1.5*IQR)].index\n",
    "    \n",
    "    new_df_reviews = new_df_reviews.drop('Unnamed: 0.1', axis = 1)\n",
    "    new_df_reviews = new_df_reviews.drop('Unnamed: 0', axis = 1)\n",
    "    \n",
    "    new_df_reviews.drop(IQR_df, inplace = True)\n",
    "    new_df_reviews.reset_index(drop=True, inplace = True)\n",
    "    \n",
    "    new_df_reviews.to_csv(\"./S_hotel_buffet_review_IQR.csv\")\n",
    "    return new_df_reviews\n",
    "    \n"
   ]
  },
  {
   "cell_type": "code",
   "execution_count": 130,
   "metadata": {},
   "outputs": [
    {
     "name": "stdout",
     "output_type": "stream",
     "text": [
      "171\n"
     ]
    }
   ],
   "source": [
    "# 실행\n",
    "spacingchecker_review = pd.read_csv(\"C:/Users/pps/Desktop/Restaurant_Review/Data_Preprocessing/S_hotel_buffet_review_spacingcheck.csv\")\n",
    "s_hotel_buffet_review_strlength = find_reviewlength(spacingchecker_review)\n",
    "s_hotel_buffet_review_outlier = find_IQR(s_hotel_buffet_review_strlength, spacingchecker_review)"
   ]
  },
  {
   "cell_type": "markdown",
   "metadata": {},
   "source": [
    "---"
   ]
  },
  {
   "cell_type": "markdown",
   "metadata": {},
   "source": [
    "## 연습"
   ]
  },
  {
   "cell_type": "code",
   "execution_count": 8,
   "metadata": {},
   "outputs": [],
   "source": [
    "import pandas as pd"
   ]
  },
  {
   "cell_type": "code",
   "execution_count": 50,
   "metadata": {},
   "outputs": [],
   "source": [
    "df_reviews = pd.read_csv(\"C:/Users/pps/Desktop/Restaurant_Review/Data_Collect/shilla_hotel_buffet_review_original.csv\", encoding='utf-8')"
   ]
  },
  {
   "cell_type": "code",
   "execution_count": 9,
   "metadata": {},
   "outputs": [],
   "source": [
    "temp_reviews = pd.read_csv(\"C:/Users/pps/Desktop/Restaurant_Review/Data_Collect/shilla_hotel_buffet_review_original.csv\", encoding='utf-8')"
   ]
  },
  {
   "cell_type": "code",
   "execution_count": 11,
   "metadata": {},
   "outputs": [
    {
     "data": {
      "text/plain": [
       "'직원분들 너무 친절하시고 음식맛은 대한민국 호텔부페 넘버원인데 말해뭐해 입니다ㅎㅎ 조금씩 일찍 입장 시켜주시는 융통성도 좋아요!! 쬐끔 아쉬운건 의외로 과일류 구색이 약하다는 거..?'"
      ]
     },
     "execution_count": 11,
     "metadata": {},
     "output_type": "execute_result"
    }
   ],
   "source": [
    "temp_reviews['Review_Text'][1]"
   ]
  },
  {
   "cell_type": "code",
   "execution_count": 12,
   "metadata": {},
   "outputs": [],
   "source": [
    "import re\n",
    "\n",
    "cleaned_reviews1 = []\n",
    "cleaned_reviews2 = []\n",
    "cleaned_reviews3 = []\n",
    "for i in range(len(temp_reviews)):\n",
    "    text = temp_reviews['Review_Text'][i]\n",
    "    \n",
    "    if not isinstance(text, str):\n",
    "        text = str(text)\n",
    "    temp = re.sub('[^가-힣a-zA-Z0-9\\s]', '',text)\n",
    "    # temp = re.sub('[ㄱ-하-ㅣ]', '', text)\n",
    "    # temp = re.sub('[^\\w\\s]', '', text)\n",
    "    # temp = re.sub('[ㄱ-ㅎ()]', '',text)\n",
    "    # temp = re.sub('[\\n]', '', text)\n",
    "    # temp = re.sub(r\"\\n\", '', text)\n",
    "    # temp = re.sub('[^,.?!\\w\\s]', '', text)\n",
    "    temp_reviews.loc[[i],['Review_Text']] = temp\n",
    "    # cleaned_reviews2.append(temp)\n",
    "    # cleaned_reviews3.append(temp)"
   ]
  },
  {
   "cell_type": "code",
   "execution_count": 24,
   "metadata": {},
   "outputs": [
    {
     "data": {
      "text/html": [
       "<div>\n",
       "<style scoped>\n",
       "    .dataframe tbody tr th:only-of-type {\n",
       "        vertical-align: middle;\n",
       "    }\n",
       "\n",
       "    .dataframe tbody tr th {\n",
       "        vertical-align: top;\n",
       "    }\n",
       "\n",
       "    .dataframe thead th {\n",
       "        text-align: right;\n",
       "    }\n",
       "</style>\n",
       "<table border=\"1\" class=\"dataframe\">\n",
       "  <thead>\n",
       "    <tr style=\"text-align: right;\">\n",
       "      <th></th>\n",
       "      <th>Unnamed: 0</th>\n",
       "      <th>UserID</th>\n",
       "      <th>Review_Text</th>\n",
       "      <th>Date</th>\n",
       "      <th>NumberOfVisit</th>\n",
       "    </tr>\n",
       "  </thead>\n",
       "  <tbody>\n",
       "  </tbody>\n",
       "</table>\n",
       "</div>"
      ],
      "text/plain": [
       "Empty DataFrame\n",
       "Columns: [Unnamed: 0, UserID, Review_Text, Date, NumberOfVisit]\n",
       "Index: []"
      ]
     },
     "execution_count": 24,
     "metadata": {},
     "output_type": "execute_result"
    }
   ],
   "source": [
    "temp_reviews[temp_reviews.Review_Text.isnull()]"
   ]
  },
  {
   "cell_type": "code",
   "execution_count": 178,
   "metadata": {},
   "outputs": [],
   "source": [
    "temp_reviews['Review_Text'] = temp_reviews['Review_Text'].str.replace('\\n','')"
   ]
  },
  {
   "cell_type": "code",
   "execution_count": 13,
   "metadata": {},
   "outputs": [
    {
     "data": {
      "text/html": [
       "<div>\n",
       "<style scoped>\n",
       "    .dataframe tbody tr th:only-of-type {\n",
       "        vertical-align: middle;\n",
       "    }\n",
       "\n",
       "    .dataframe tbody tr th {\n",
       "        vertical-align: top;\n",
       "    }\n",
       "\n",
       "    .dataframe thead th {\n",
       "        text-align: right;\n",
       "    }\n",
       "</style>\n",
       "<table border=\"1\" class=\"dataframe\">\n",
       "  <thead>\n",
       "    <tr style=\"text-align: right;\">\n",
       "      <th></th>\n",
       "      <th>Unnamed: 0</th>\n",
       "      <th>UserID</th>\n",
       "      <th>Review_Text</th>\n",
       "      <th>Date</th>\n",
       "      <th>NumberOfVisit</th>\n",
       "    </tr>\n",
       "  </thead>\n",
       "  <tbody>\n",
       "    <tr>\n",
       "      <th>0</th>\n",
       "      <td>0</td>\n",
       "      <td>타임1975</td>\n",
       "      <td>신라호텔에 오면 정말 꼭 해야할 꿀팁 정리했습니다 1 발렛을 꼭하세요 제휴카드가 있...</td>\n",
       "      <td>2024년 3월 25일 월요일</td>\n",
       "      <td>1번째 방문</td>\n",
       "    </tr>\n",
       "    <tr>\n",
       "      <th>1</th>\n",
       "      <td>1</td>\n",
       "      <td>illiiilillil</td>\n",
       "      <td>직원분들 너무 친절하시고 음식맛은 대한민국 호텔부페 넘버원인데 말해뭐해 입니다 조금...</td>\n",
       "      <td>2024년 5월 19일 일요일</td>\n",
       "      <td>1번째 방문</td>\n",
       "    </tr>\n",
       "    <tr>\n",
       "      <th>2</th>\n",
       "      <td>2</td>\n",
       "      <td>shooooooo</td>\n",
       "      <td>종류도 알차게 많고 다 맛있어요</td>\n",
       "      <td>2024년 6월 7일 금요일</td>\n",
       "      <td>1번째 방문</td>\n",
       "    </tr>\n",
       "    <tr>\n",
       "      <th>3</th>\n",
       "      <td>3</td>\n",
       "      <td>Choigo다</td>\n",
       "      <td>신라호텔 파크뷰 조식 이용했습니다\\n11층이라 뷰도 훌륭하고 객실 컨디션이나 청결 ...</td>\n",
       "      <td>2024년 3월 3일 일요일</td>\n",
       "      <td>1번째 방문</td>\n",
       "    </tr>\n",
       "    <tr>\n",
       "      <th>4</th>\n",
       "      <td>4</td>\n",
       "      <td>shekyh</td>\n",
       "      <td>창가자리는 보기만 하고 부스좌석 안내받음 안락하고 좋았어요 대게는 차갑고 짜고 짜장...</td>\n",
       "      <td>2024년 2월 3일 토요일</td>\n",
       "      <td>1번째 방문</td>\n",
       "    </tr>\n",
       "  </tbody>\n",
       "</table>\n",
       "</div>"
      ],
      "text/plain": [
       "   Unnamed: 0        UserID  \\\n",
       "0           0        타임1975   \n",
       "1           1  illiiilillil   \n",
       "2           2     shooooooo   \n",
       "3           3       Choigo다   \n",
       "4           4        shekyh   \n",
       "\n",
       "                                         Review_Text              Date  \\\n",
       "0  신라호텔에 오면 정말 꼭 해야할 꿀팁 정리했습니다 1 발렛을 꼭하세요 제휴카드가 있...  2024년 3월 25일 월요일   \n",
       "1  직원분들 너무 친절하시고 음식맛은 대한민국 호텔부페 넘버원인데 말해뭐해 입니다 조금...  2024년 5월 19일 일요일   \n",
       "2                                  종류도 알차게 많고 다 맛있어요   2024년 6월 7일 금요일   \n",
       "3  신라호텔 파크뷰 조식 이용했습니다\\n11층이라 뷰도 훌륭하고 객실 컨디션이나 청결 ...   2024년 3월 3일 일요일   \n",
       "4  창가자리는 보기만 하고 부스좌석 안내받음 안락하고 좋았어요 대게는 차갑고 짜고 짜장...   2024년 2월 3일 토요일   \n",
       "\n",
       "  NumberOfVisit  \n",
       "0        1번째 방문  \n",
       "1        1번째 방문  \n",
       "2        1번째 방문  \n",
       "3        1번째 방문  \n",
       "4        1번째 방문  "
      ]
     },
     "execution_count": 13,
     "metadata": {},
     "output_type": "execute_result"
    }
   ],
   "source": [
    "temp_reviews.head()"
   ]
  },
  {
   "cell_type": "code",
   "execution_count": 14,
   "metadata": {},
   "outputs": [
    {
     "data": {
      "text/plain": [
       "[]"
      ]
     },
     "execution_count": 14,
     "metadata": {},
     "output_type": "execute_result"
    }
   ],
   "source": [
    "cleaned_reviews1[:5]"
   ]
  },
  {
   "cell_type": "markdown",
   "metadata": {},
   "source": [
    "- 개행문자가 사라지지 않음. ㅎㅎ이랑 ㅋ ㅠㅠ 도 안사라짐"
   ]
  },
  {
   "cell_type": "code",
   "execution_count": 4,
   "metadata": {},
   "outputs": [],
   "source": [
    "# df_reviews['Review_Text'][0]"
   ]
  },
  {
   "cell_type": "code",
   "execution_count": 14,
   "metadata": {},
   "outputs": [
    {
     "data": {
      "text/plain": [
       "200"
      ]
     },
     "execution_count": 14,
     "metadata": {},
     "output_type": "execute_result"
    }
   ],
   "source": [
    "# len(df_reviews)"
   ]
  },
  {
   "cell_type": "code",
   "execution_count": 33,
   "metadata": {},
   "outputs": [],
   "source": [
    "# import re\n",
    "\n",
    "# cleaned_reviews1 = []\n",
    "# cleaned_reviews2 = []\n",
    "# cleaned_reviews3 = []\n",
    "# for i in range(len(df_reviews)):\n",
    "#     text = df_reviews['Review_Text'][i]\n",
    "    \n",
    "#     if not isinstance(text, str):\n",
    "#         text = str(text)\n",
    "#     # temp = re.sub('([ㄱ-ㅎ ㅏ-ㅣ]+)', '',text)\n",
    "#     temp = re.sub('[^\\w\\s\\n]', '', text)\n",
    "#     # temp = re.sub('[^,.?!\\w\\s]', '', text)\n",
    "#     # cleaned_reviews1.append(temp)\n",
    "#     cleaned_reviews2.append(temp)\n",
    "#     # cleaned_reviews3.append(temp)\n"
   ]
  },
  {
   "cell_type": "code",
   "execution_count": 3,
   "metadata": {},
   "outputs": [],
   "source": [
    "# cleaned_reviews1"
   ]
  },
  {
   "cell_type": "code",
   "execution_count": 2,
   "metadata": {},
   "outputs": [],
   "source": [
    "# cleaned_reviews2"
   ]
  },
  {
   "cell_type": "code",
   "execution_count": 1,
   "metadata": {},
   "outputs": [],
   "source": [
    "# cleaned_reviews3"
   ]
  },
  {
   "cell_type": "markdown",
   "metadata": {},
   "source": [
    "---"
   ]
  },
  {
   "cell_type": "markdown",
   "metadata": {},
   "source": [
    "- 해결 완료\n",
    "- 정규 표현식을 통해 이모티콘, 느낌표, 점, 한글 초성 등을 없앰."
   ]
  },
  {
   "cell_type": "code",
   "execution_count": 16,
   "metadata": {},
   "outputs": [],
   "source": [
    "# 데이터 전처리 정리\n",
    "import re\n",
    "df_reviews = pd.read_csv(\"C:/Users/pps/Desktop/Restaurant_Review/Data_Collect/shilla_hotel_buffet_review_original.csv\", encoding='utf-8')\n",
    "\n",
    "for i in range(len(df_reviews)):\n",
    "    text = df_reviews['Review_Text'][i]\n",
    "    \n",
    "    if not isinstance(text, str):\n",
    "        text = str(text)\n",
    "    temp = re.sub('[^가-힣a-zA-Z0-9\\s]', '',text)\n",
    "\n",
    "    df_reviews.loc[[i],['Review_Text']] = temp\n",
    "\n",
    "df_reviews['Review_Text'] = df_reviews['Review_Text'].str.replace('\\n','')"
   ]
  },
  {
   "cell_type": "code",
   "execution_count": 17,
   "metadata": {},
   "outputs": [
    {
     "data": {
      "text/html": [
       "<div>\n",
       "<style scoped>\n",
       "    .dataframe tbody tr th:only-of-type {\n",
       "        vertical-align: middle;\n",
       "    }\n",
       "\n",
       "    .dataframe tbody tr th {\n",
       "        vertical-align: top;\n",
       "    }\n",
       "\n",
       "    .dataframe thead th {\n",
       "        text-align: right;\n",
       "    }\n",
       "</style>\n",
       "<table border=\"1\" class=\"dataframe\">\n",
       "  <thead>\n",
       "    <tr style=\"text-align: right;\">\n",
       "      <th></th>\n",
       "      <th>Unnamed: 0</th>\n",
       "      <th>UserID</th>\n",
       "      <th>Review_Text</th>\n",
       "      <th>Date</th>\n",
       "      <th>NumberOfVisit</th>\n",
       "    </tr>\n",
       "  </thead>\n",
       "  <tbody>\n",
       "    <tr>\n",
       "      <th>0</th>\n",
       "      <td>0</td>\n",
       "      <td>타임1975</td>\n",
       "      <td>신라호텔에 오면 정말 꼭 해야할 꿀팁 정리했습니다 1 발렛을 꼭하세요 제휴카드가 있...</td>\n",
       "      <td>2024년 3월 25일 월요일</td>\n",
       "      <td>1번째 방문</td>\n",
       "    </tr>\n",
       "    <tr>\n",
       "      <th>1</th>\n",
       "      <td>1</td>\n",
       "      <td>illiiilillil</td>\n",
       "      <td>직원분들 너무 친절하시고 음식맛은 대한민국 호텔부페 넘버원인데 말해뭐해 입니다 조금...</td>\n",
       "      <td>2024년 5월 19일 일요일</td>\n",
       "      <td>1번째 방문</td>\n",
       "    </tr>\n",
       "    <tr>\n",
       "      <th>2</th>\n",
       "      <td>2</td>\n",
       "      <td>shooooooo</td>\n",
       "      <td>종류도 알차게 많고 다 맛있어요</td>\n",
       "      <td>2024년 6월 7일 금요일</td>\n",
       "      <td>1번째 방문</td>\n",
       "    </tr>\n",
       "    <tr>\n",
       "      <th>3</th>\n",
       "      <td>3</td>\n",
       "      <td>Choigo다</td>\n",
       "      <td>신라호텔 파크뷰 조식 이용했습니다11층이라 뷰도 훌륭하고 객실 컨디션이나 청결 서비...</td>\n",
       "      <td>2024년 3월 3일 일요일</td>\n",
       "      <td>1번째 방문</td>\n",
       "    </tr>\n",
       "    <tr>\n",
       "      <th>4</th>\n",
       "      <td>4</td>\n",
       "      <td>shekyh</td>\n",
       "      <td>창가자리는 보기만 하고 부스좌석 안내받음 안락하고 좋았어요 대게는 차갑고 짜고 짜장...</td>\n",
       "      <td>2024년 2월 3일 토요일</td>\n",
       "      <td>1번째 방문</td>\n",
       "    </tr>\n",
       "  </tbody>\n",
       "</table>\n",
       "</div>"
      ],
      "text/plain": [
       "   Unnamed: 0        UserID  \\\n",
       "0           0        타임1975   \n",
       "1           1  illiiilillil   \n",
       "2           2     shooooooo   \n",
       "3           3       Choigo다   \n",
       "4           4        shekyh   \n",
       "\n",
       "                                         Review_Text              Date  \\\n",
       "0  신라호텔에 오면 정말 꼭 해야할 꿀팁 정리했습니다 1 발렛을 꼭하세요 제휴카드가 있...  2024년 3월 25일 월요일   \n",
       "1  직원분들 너무 친절하시고 음식맛은 대한민국 호텔부페 넘버원인데 말해뭐해 입니다 조금...  2024년 5월 19일 일요일   \n",
       "2                                  종류도 알차게 많고 다 맛있어요   2024년 6월 7일 금요일   \n",
       "3  신라호텔 파크뷰 조식 이용했습니다11층이라 뷰도 훌륭하고 객실 컨디션이나 청결 서비...   2024년 3월 3일 일요일   \n",
       "4  창가자리는 보기만 하고 부스좌석 안내받음 안락하고 좋았어요 대게는 차갑고 짜고 짜장...   2024년 2월 3일 토요일   \n",
       "\n",
       "  NumberOfVisit  \n",
       "0        1번째 방문  \n",
       "1        1번째 방문  \n",
       "2        1번째 방문  \n",
       "3        1번째 방문  \n",
       "4        1번째 방문  "
      ]
     },
     "execution_count": 17,
     "metadata": {},
     "output_type": "execute_result"
    }
   ],
   "source": [
    "df_reviews.head()"
   ]
  },
  {
   "cell_type": "code",
   "execution_count": 53,
   "metadata": {},
   "outputs": [],
   "source": [
    "df_reviews = df_reviews.drop('Unnamed: 0', axis = 1)"
   ]
  },
  {
   "cell_type": "code",
   "execution_count": 180,
   "metadata": {},
   "outputs": [],
   "source": [
    "temp_reviews = temp_reviews.drop('Unnamed: 0', axis = 1)"
   ]
  },
  {
   "cell_type": "code",
   "execution_count": 18,
   "metadata": {},
   "outputs": [
    {
     "data": {
      "text/html": [
       "<div>\n",
       "<style scoped>\n",
       "    .dataframe tbody tr th:only-of-type {\n",
       "        vertical-align: middle;\n",
       "    }\n",
       "\n",
       "    .dataframe tbody tr th {\n",
       "        vertical-align: top;\n",
       "    }\n",
       "\n",
       "    .dataframe thead th {\n",
       "        text-align: right;\n",
       "    }\n",
       "</style>\n",
       "<table border=\"1\" class=\"dataframe\">\n",
       "  <thead>\n",
       "    <tr style=\"text-align: right;\">\n",
       "      <th></th>\n",
       "      <th>Unnamed: 0</th>\n",
       "      <th>UserID</th>\n",
       "      <th>Review_Text</th>\n",
       "      <th>Date</th>\n",
       "      <th>NumberOfVisit</th>\n",
       "    </tr>\n",
       "  </thead>\n",
       "  <tbody>\n",
       "    <tr>\n",
       "      <th>0</th>\n",
       "      <td>0</td>\n",
       "      <td>타임1975</td>\n",
       "      <td>신라호텔에 오면 정말 꼭 해야할 꿀팁 정리했습니다 1 발렛을 꼭하세요 제휴카드가 있...</td>\n",
       "      <td>2024년 3월 25일 월요일</td>\n",
       "      <td>1번째 방문</td>\n",
       "    </tr>\n",
       "    <tr>\n",
       "      <th>1</th>\n",
       "      <td>1</td>\n",
       "      <td>illiiilillil</td>\n",
       "      <td>직원분들 너무 친절하시고 음식맛은 대한민국 호텔부페 넘버원인데 말해뭐해 입니다 조금...</td>\n",
       "      <td>2024년 5월 19일 일요일</td>\n",
       "      <td>1번째 방문</td>\n",
       "    </tr>\n",
       "    <tr>\n",
       "      <th>2</th>\n",
       "      <td>2</td>\n",
       "      <td>shooooooo</td>\n",
       "      <td>종류도 알차게 많고 다 맛있어요</td>\n",
       "      <td>2024년 6월 7일 금요일</td>\n",
       "      <td>1번째 방문</td>\n",
       "    </tr>\n",
       "    <tr>\n",
       "      <th>3</th>\n",
       "      <td>3</td>\n",
       "      <td>Choigo다</td>\n",
       "      <td>신라호텔 파크뷰 조식 이용했습니다11층이라 뷰도 훌륭하고 객실 컨디션이나 청결 서비...</td>\n",
       "      <td>2024년 3월 3일 일요일</td>\n",
       "      <td>1번째 방문</td>\n",
       "    </tr>\n",
       "    <tr>\n",
       "      <th>4</th>\n",
       "      <td>4</td>\n",
       "      <td>shekyh</td>\n",
       "      <td>창가자리는 보기만 하고 부스좌석 안내받음 안락하고 좋았어요 대게는 차갑고 짜고 짜장...</td>\n",
       "      <td>2024년 2월 3일 토요일</td>\n",
       "      <td>1번째 방문</td>\n",
       "    </tr>\n",
       "  </tbody>\n",
       "</table>\n",
       "</div>"
      ],
      "text/plain": [
       "   Unnamed: 0        UserID  \\\n",
       "0           0        타임1975   \n",
       "1           1  illiiilillil   \n",
       "2           2     shooooooo   \n",
       "3           3       Choigo다   \n",
       "4           4        shekyh   \n",
       "\n",
       "                                         Review_Text              Date  \\\n",
       "0  신라호텔에 오면 정말 꼭 해야할 꿀팁 정리했습니다 1 발렛을 꼭하세요 제휴카드가 있...  2024년 3월 25일 월요일   \n",
       "1  직원분들 너무 친절하시고 음식맛은 대한민국 호텔부페 넘버원인데 말해뭐해 입니다 조금...  2024년 5월 19일 일요일   \n",
       "2                                  종류도 알차게 많고 다 맛있어요   2024년 6월 7일 금요일   \n",
       "3  신라호텔 파크뷰 조식 이용했습니다11층이라 뷰도 훌륭하고 객실 컨디션이나 청결 서비...   2024년 3월 3일 일요일   \n",
       "4  창가자리는 보기만 하고 부스좌석 안내받음 안락하고 좋았어요 대게는 차갑고 짜고 짜장...   2024년 2월 3일 토요일   \n",
       "\n",
       "  NumberOfVisit  \n",
       "0        1번째 방문  \n",
       "1        1번째 방문  \n",
       "2        1번째 방문  \n",
       "3        1번째 방문  \n",
       "4        1번째 방문  "
      ]
     },
     "execution_count": 18,
     "metadata": {},
     "output_type": "execute_result"
    }
   ],
   "source": [
    "df_reviews.head()"
   ]
  },
  {
   "cell_type": "markdown",
   "metadata": {},
   "source": [
    "### 함수 정리"
   ]
  },
  {
   "cell_type": "code",
   "execution_count": 181,
   "metadata": {},
   "outputs": [],
   "source": [
    "# Setting\n",
    "\n",
    "import pandas as pd\n",
    "import re\n",
    "\n",
    "\n",
    "\n",
    "def text_preprocessing(df_reviews):\n",
    "    \"\"\"Review_Text의 리뷰글을 전처리 하는 함수\"\"\"\n",
    "    for i in range(len(df_reviews)):\n",
    "        text = df_reviews['Review_Text'][i]\n",
    "    \n",
    "        if not isinstance(text, str):\n",
    "            text = str(text)\n",
    "        temp = re.sub('[^가-힣a-zA-Z0-9\\s]', '',text)\n",
    "\n",
    "        df_reviews.loc[[i],['Review_Text']] = temp\n",
    "        \n",
    "    df_reviews['Review_Text'] = df_reviews['Review_Text'].str.replace('\\n','')\n",
    "    df_reviews = df_reviews.drop('Unnamed: 0', axis = 1)\n",
    "    df_reviews['Review_Text'] = df_reviews['Review_Text'].str.replace('nan', '')\n",
    "    \n",
    "    # df_reviews.to_csv('./S_hotel_buffet_review_data_preprocess.csv')\n",
    "    \n",
    "    return df_reviews"
   ]
  },
  {
   "cell_type": "code",
   "execution_count": 201,
   "metadata": {},
   "outputs": [],
   "source": [
    "temp_preprocess_review = text_preprocessing(temp_reviews)"
   ]
  },
  {
   "cell_type": "code",
   "execution_count": 26,
   "metadata": {},
   "outputs": [],
   "source": [
    "# 실행\n",
    "shilla_hotel_buffet_review = pd.read_csv(\"C:/Users/pps/Desktop/Restaurant_Review/Data_Collect/shilla_hotel_buffet_review_original.csv\", encoding='utf-8')\n",
    "\n",
    "S_hotel_buffet_preprocess_review = text_preprocessing(shilla_hotel_buffet_review)"
   ]
  },
  {
   "cell_type": "markdown",
   "metadata": {},
   "source": [
    "---"
   ]
  },
  {
   "cell_type": "markdown",
   "metadata": {},
   "source": [
    "### 맞춤법 / 띄어쓰기 실습"
   ]
  },
  {
   "cell_type": "code",
   "execution_count": 1,
   "metadata": {},
   "outputs": [
    {
     "name": "stdout",
     "output_type": "stream",
     "text": [
      "안녕하세요\n"
     ]
    }
   ],
   "source": [
    "from hanspell import spell_checker\n",
    "requestURL = \"https://m.search.naver.com/p/csearch/ocontent/util/SpellerProxy?passportKey=90ae3cbdae22968de3f12b9095f35ea488ecf40b&_callback=jQuery112409692735818103884_1718943666840&q=%EB%A7%9E%EC%B6%A4%EB%B2%95+%EA%B2%80%EC%82%AC%EB%A5%BC+%EC%9B%90%ED%95%98%EB%8A%94+%EB%8B%A8%EC%96%B4%EB%82%98+%EB%AC%B8%EC%9E%A5%EC%9D%84+%EC%9E%85%EB%A0%A5%ED%95%B4+%EC%A3%BC%EC%84%B8%EC%9A%94.&where=nexearch&color_blindness=0&_=1718943666841\"\n",
    "result = spell_checker.check('아녕하세요', requestURL)\n",
    "print(result.checked)"
   ]
  },
  {
   "cell_type": "code",
   "execution_count": 36,
   "metadata": {},
   "outputs": [
    {
     "data": {
      "text/plain": [
       "'직원분들 너무 친절하시고 음식맛은 대한민국 호텔부페 넘버원인데 말해뭐해 입니다 조금씩 일찍 입장 시켜주시는 융통성도 좋아요 쬐끔 아쉬운건 의외로 과일류 구색이 약하다는 거'"
      ]
     },
     "execution_count": 36,
     "metadata": {},
     "output_type": "execute_result"
    }
   ],
   "source": [
    "temp_reviews['Review_Text'][1]\n",
    "# len(temp_reviews)"
   ]
  },
  {
   "cell_type": "code",
   "execution_count": null,
   "metadata": {},
   "outputs": [],
   "source": [
    "temp_spellreview = []\n",
    "for i in range(len(temp_reviews)):\n",
    "    result = spell_checker.check(temp_reviews['Review_Text'][i], requestURL)\n",
    "    temp_reviews['Review_Text'][i] = result.checked\n",
    "    "
   ]
  },
  {
   "cell_type": "code",
   "execution_count": 40,
   "metadata": {},
   "outputs": [
    {
     "data": {
      "text/plain": [
       "0      신라호텔에 오면 정말 꼭 해야 할 꿀팁 정리했습니다 1 발레를 꼭 하세요 제휴카드가...\n",
       "1      직원분들 너무 친절하시고 음식 맛은 대한민국 호텔 뷔페 넘버원인데 말해 뭐 해입니다...\n",
       "2                                      종류도 알차게 많고 다 맛있어요\n",
       "3      신라호텔 파크뷰 조식 이용했습니다11층이라 뷰도 훌륭하고 객실 컨디션이나 청결 서비...\n",
       "4      창가 자리는 보기만 하고 부스 좌석 안내받음 안락하고 좋았어요 대게는 차갑고 짜고 ...\n",
       "                             ...                        \n",
       "195    양 갈비가 제일 맛있어요 La갈비 맛있었는데 없어져서 아쉬워요 주말에 1부는 시간이...\n",
       "196    가격 오르고 가성비 떨어진다는데 처음 와본 사람으로서 이전에 어땠는지 모르겠지만 인...\n",
       "197    가격은 있지만 특별한 날 가기 좋아요 개인적으로 해산물보다는 디저트 육류 순으로 맛...\n",
       "198       음식이 다양하고 전반적으로 다 맛있어요 무엇보다 다들 친절하고 서비스가 너무 좋아요\n",
       "199                             사람이 너무 많았지만 맛있게 잘 먹고 왔어요\n",
       "Name: Review_Text, Length: 200, dtype: object"
      ]
     },
     "execution_count": 40,
     "metadata": {},
     "output_type": "execute_result"
    }
   ],
   "source": [
    "temp_reviews['Review_Text']"
   ]
  },
  {
   "cell_type": "code",
   "execution_count": 41,
   "metadata": {},
   "outputs": [],
   "source": [
    "temp_spellreview = []\n",
    "for i in range(len(temp_reviews)):\n",
    "    result = spell_checker.check(temp_reviews['Review_Text'][i], requestURL)\n",
    "    temp_spellreview.append(result.checked)"
   ]
  },
  {
   "cell_type": "code",
   "execution_count": null,
   "metadata": {},
   "outputs": [],
   "source": [
    "temp_spellreview"
   ]
  },
  {
   "cell_type": "code",
   "execution_count": 44,
   "metadata": {},
   "outputs": [],
   "source": [
    "temp_reviews.to_csv(\"./spelltest_review.csv\")"
   ]
  },
  {
   "cell_type": "code",
   "execution_count": null,
   "metadata": {},
   "outputs": [],
   "source": [
    "from hanspell import spell_checker\n",
    "requestURL = \"https://m.search.naver.com/p/csearch/ocontent/util/SpellerProxy?passportKey=90ae3cbdae22968de3f12b9095f35ea488ecf40b&_callback=jQuery112409692735818103884_1718943666840&q=%EB%A7%9E%EC%B6%A4%EB%B2%95+%EA%B2%80%EC%82%AC%EB%A5%BC+%EC%9B%90%ED%95%98%EB%8A%94+%EB%8B%A8%EC%96%B4%EB%82%98+%EB%AC%B8%EC%9E%A5%EC%9D%84+%EC%9E%85%EB%A0%A5%ED%95%B4+%EC%A3%BC%EC%84%B8%EC%9A%94.&where=nexearch&color_blindness=0&_=1718943666841\"\n",
    "for i in range(len(temp_preprocess_review)):\n",
    "    result = spell_checker.check(temp_preprocess_review['Review_Text'][i], requestURL)\n",
    "    temp_preprocess_review['Review_Text'][i] = result.checked\n",
    "    "
   ]
  },
  {
   "cell_type": "markdown",
   "metadata": {},
   "source": [
    "---"
   ]
  },
  {
   "cell_type": "markdown",
   "metadata": {},
   "source": [
    "- hanspell 적용 완료\n",
    "- 네이버에 `네이버 맞춤법 검사기` 치기\n",
    "- 개발자 도구를 열고 맨위 항목 `Network`를 들어간다.\n",
    "- 페이지 새로고침을 한 뒤 네이버 맞춤법 검사기의 검사하기 버튼을 누른다.\n",
    "- Network항목 안 목록에 `SpellerProxy?passportKey=...`를 누른다.\n",
    "- Headers항목에 뜨는 `Request URL`을 드래그하여 복사한다.\n",
    "- requestURL 변수를 하나 만들어 거기다가 저장해준다."
   ]
  },
  {
   "cell_type": "code",
   "execution_count": 67,
   "metadata": {},
   "outputs": [],
   "source": [
    "from hanspell import spell_checker\n",
    "\n",
    "requsetURL = \"https://m.search.naver.com/p/csearch/ocontent/util/SpellerProxy?passportKey=90ae3cbdae22968de3f12b9095f35ea488ecf40b&_callback=jQuery112404183354119149698_1718945622920&q=%EB%A7%9E%EC%B6%A4%EB%B2%95+%EA%B2%80%EC%82%AC%EB%A5%BC+%EC%9B%90%ED%95%98%EB%8A%94+%EB%8B%A8%EC%96%B4%EB%82%98+%EB%AC%B8%EC%9E%A5%EC%9D%84+%EC%9E%85%EB%A0%A5%ED%95%B4+%EC%A3%BC%EC%84%B8%EC%9A%94.&where=nexearch&color_blindness=0&_=1718945622921\"\n",
    "\n",
    "for i in range(len(df_reviews)):\n",
    "    result = spell_checker.check(df_reviews['Review_Text'][i], requestURL)\n",
    "    # df_reviews['Review_Text'][i] = result.checked\n",
    "    df_reviews.loc[i, \"Review_Text\"] = result.checked"
   ]
  },
  {
   "cell_type": "code",
   "execution_count": 70,
   "metadata": {},
   "outputs": [
    {
     "data": {
      "text/plain": [
       "'신라호텔에 오면 정말 꼭 해야 할 꿀팁 정리했습니다 1 발레를 꼭 하세요 제휴카드가 있으면 무료지만 제휴카드가 없더라도 33000원 결제 시 가발 넷을 해주시고요 체크인 시간 아깝고 주차장에서 왔다 갔다 짐 옮기기 어려운 모든 걸 해결할 수 있습니다 여기서 꿀팁은 체크아웃전 전화로 0번 눌러서 차 번호 알려주시면 미리 빼주십니다 일층 내려와서 차 빼달라고 하면 1520분 걸려요 2 신라호텔 바로 주변 택시 타고 기본요금 차로도 주차 가능한 맛집 중 맛집 신라호텔이 비싸서 가성비 혹은 멋진 공간들을 찾으신다면 을지로에 위치한 행 2PM 8PM 추천드립니다 매일 저녁 인디 가수들의 라이브 공연도 매일 하고 와인이나 맥주 술도 저렴 라자냐 파스타와 몽둥이 고기가 유명한 곳이라 저녁에 코스로 들르기 좋은 곳이에요'"
      ]
     },
     "execution_count": 70,
     "metadata": {},
     "output_type": "execute_result"
    }
   ],
   "source": [
    "df_reviews[\"Review_Text\"][0]"
   ]
  },
  {
   "cell_type": "markdown",
   "metadata": {},
   "source": [
    "### 함수 정리"
   ]
  },
  {
   "cell_type": "code",
   "execution_count": 64,
   "metadata": {},
   "outputs": [],
   "source": [
    "# Setting\n",
    "from hanspell import spell_checker\n",
    "\n",
    "requestURL = \"https://m.search.naver.com/p/csearch/ocontent/util/SpellerProxy?passportKey=90ae3cbdae22968de3f12b9095f35ea488ecf40b&_callback=jQuery112406350187405022272_1718946457167&q=%EB%A7%9E%EC%B6%A4%EB%B2%95+%EA%B2%80%EC%82%AC%EB%A5%BC+%EC%9B%90%ED%95%98%EB%8A%94+%EB%8B%A8%EC%96%B4%EB%82%98+%EB%AC%B8%EC%9E%A5%EC%9D%84+%EC%9E%85%EB%A0%A5%ED%95%B4+%EC%A3%BC%EC%84%B8%EC%9A%94.&where=nexearch&color_blindness=0&_=1718946457168\""
   ]
  },
  {
   "cell_type": "code",
   "execution_count": 156,
   "metadata": {},
   "outputs": [],
   "source": [
    "\n",
    "def ReviewSpellChecker(df_reviews):\n",
    "    \n",
    "    for i in range(len(df_reviews)):\n",
    "        result = spell_checker.check(df_reviews['Review_Text'][i], requestURL)\n",
    "        df_reviews.loc[i, 'Review_Text'] = result.checked\n",
    "    \n",
    "    \n",
    "    return df_reviews"
   ]
  },
  {
   "cell_type": "code",
   "execution_count": 157,
   "metadata": {},
   "outputs": [
    {
     "data": {
      "text/html": [
       "<div>\n",
       "<style scoped>\n",
       "    .dataframe tbody tr th:only-of-type {\n",
       "        vertical-align: middle;\n",
       "    }\n",
       "\n",
       "    .dataframe tbody tr th {\n",
       "        vertical-align: top;\n",
       "    }\n",
       "\n",
       "    .dataframe thead th {\n",
       "        text-align: right;\n",
       "    }\n",
       "</style>\n",
       "<table border=\"1\" class=\"dataframe\">\n",
       "  <thead>\n",
       "    <tr style=\"text-align: right;\">\n",
       "      <th></th>\n",
       "      <th>UserID</th>\n",
       "      <th>Review_Text</th>\n",
       "      <th>Date</th>\n",
       "      <th>NumberOfVisit</th>\n",
       "    </tr>\n",
       "  </thead>\n",
       "  <tbody>\n",
       "    <tr>\n",
       "      <th>0</th>\n",
       "      <td>타임1975</td>\n",
       "      <td>신라호텔에 오면 정말 꼭 해야 할 꿀팁 정리했습니다 1 발레를 꼭 하세요 제휴카드가...</td>\n",
       "      <td>2024년 3월 25일 월요일</td>\n",
       "      <td>1번째 방문</td>\n",
       "    </tr>\n",
       "    <tr>\n",
       "      <th>1</th>\n",
       "      <td>illiiilillil</td>\n",
       "      <td>직원분들 너무 친절하시고 음식 맛은 대한민국 호텔 뷔페 넘버원인데 말해 뭐 해입니다...</td>\n",
       "      <td>2024년 5월 19일 일요일</td>\n",
       "      <td>1번째 방문</td>\n",
       "    </tr>\n",
       "    <tr>\n",
       "      <th>2</th>\n",
       "      <td>shooooooo</td>\n",
       "      <td>종류도 알차게 많고 다 맛있어요</td>\n",
       "      <td>2024년 6월 7일 금요일</td>\n",
       "      <td>1번째 방문</td>\n",
       "    </tr>\n",
       "    <tr>\n",
       "      <th>3</th>\n",
       "      <td>Choigo다</td>\n",
       "      <td>신라호텔 파크뷰 조식 이용했습니다 11층이라 뷰도 훌륭하고 객실 컨디션이나 청결 서...</td>\n",
       "      <td>2024년 3월 3일 일요일</td>\n",
       "      <td>1번째 방문</td>\n",
       "    </tr>\n",
       "    <tr>\n",
       "      <th>4</th>\n",
       "      <td>shekyh</td>\n",
       "      <td>창가 자리는 보기만 하고 부스 좌석 안내받음 안락하고 좋았어요 대게는 차갑고 짜고 ...</td>\n",
       "      <td>2024년 2월 3일 토요일</td>\n",
       "      <td>1번째 방문</td>\n",
       "    </tr>\n",
       "    <tr>\n",
       "      <th>...</th>\n",
       "      <td>...</td>\n",
       "      <td>...</td>\n",
       "      <td>...</td>\n",
       "      <td>...</td>\n",
       "    </tr>\n",
       "    <tr>\n",
       "      <th>195</th>\n",
       "      <td>sj5****</td>\n",
       "      <td>양 갈비가 제일 맛있어요 La갈비 맛있었는데 없어져서 아쉬워요 주말에 1부는 시간이...</td>\n",
       "      <td>2022년 9월 18일 일요일</td>\n",
       "      <td>1번째 방문</td>\n",
       "    </tr>\n",
       "    <tr>\n",
       "      <th>196</th>\n",
       "      <td>마츠코</td>\n",
       "      <td>가격 오르고 가성비 떨어진다는데 처음 와본 사람으로서 이전에 어땠는지 모르겠지만 인...</td>\n",
       "      <td>2022년 8월 24일 수요일</td>\n",
       "      <td>1번째 방문</td>\n",
       "    </tr>\n",
       "    <tr>\n",
       "      <th>197</th>\n",
       "      <td>디기디기디기갱갱</td>\n",
       "      <td>가격은 있지만 특별한 날 가기 좋아요 개인적으로 해산물보다는 디저트 육류 순으로 맛...</td>\n",
       "      <td>2022년 10월 10일 월요일</td>\n",
       "      <td>1번째 방문</td>\n",
       "    </tr>\n",
       "    <tr>\n",
       "      <th>198</th>\n",
       "      <td>캠퍼필즈</td>\n",
       "      <td>음식이 다양하고 전반적으로 다 맛있어요 무엇보다 다들 친절하고 서비스가 너무 좋아요</td>\n",
       "      <td>2022년 6월 18일 토요일</td>\n",
       "      <td>1번째 방문</td>\n",
       "    </tr>\n",
       "    <tr>\n",
       "      <th>199</th>\n",
       "      <td>youjin727</td>\n",
       "      <td>사람이 너무 많았지만 맛있게 잘 먹고 왔어요</td>\n",
       "      <td>2023년 1월 15일 일요일</td>\n",
       "      <td>1번째 방문</td>\n",
       "    </tr>\n",
       "  </tbody>\n",
       "</table>\n",
       "<p>200 rows × 4 columns</p>\n",
       "</div>"
      ],
      "text/plain": [
       "           UserID                                        Review_Text  \\\n",
       "0          타임1975  신라호텔에 오면 정말 꼭 해야 할 꿀팁 정리했습니다 1 발레를 꼭 하세요 제휴카드가...   \n",
       "1    illiiilillil  직원분들 너무 친절하시고 음식 맛은 대한민국 호텔 뷔페 넘버원인데 말해 뭐 해입니다...   \n",
       "2       shooooooo                                  종류도 알차게 많고 다 맛있어요   \n",
       "3         Choigo다  신라호텔 파크뷰 조식 이용했습니다 11층이라 뷰도 훌륭하고 객실 컨디션이나 청결 서...   \n",
       "4          shekyh  창가 자리는 보기만 하고 부스 좌석 안내받음 안락하고 좋았어요 대게는 차갑고 짜고 ...   \n",
       "..            ...                                                ...   \n",
       "195       sj5****  양 갈비가 제일 맛있어요 La갈비 맛있었는데 없어져서 아쉬워요 주말에 1부는 시간이...   \n",
       "196           마츠코  가격 오르고 가성비 떨어진다는데 처음 와본 사람으로서 이전에 어땠는지 모르겠지만 인...   \n",
       "197      디기디기디기갱갱  가격은 있지만 특별한 날 가기 좋아요 개인적으로 해산물보다는 디저트 육류 순으로 맛...   \n",
       "198          캠퍼필즈     음식이 다양하고 전반적으로 다 맛있어요 무엇보다 다들 친절하고 서비스가 너무 좋아요   \n",
       "199     youjin727                           사람이 너무 많았지만 맛있게 잘 먹고 왔어요   \n",
       "\n",
       "                  Date NumberOfVisit  \n",
       "0     2024년 3월 25일 월요일        1번째 방문  \n",
       "1     2024년 5월 19일 일요일        1번째 방문  \n",
       "2      2024년 6월 7일 금요일        1번째 방문  \n",
       "3      2024년 3월 3일 일요일        1번째 방문  \n",
       "4      2024년 2월 3일 토요일        1번째 방문  \n",
       "..                 ...           ...  \n",
       "195   2022년 9월 18일 일요일        1번째 방문  \n",
       "196   2022년 8월 24일 수요일        1번째 방문  \n",
       "197  2022년 10월 10일 월요일        1번째 방문  \n",
       "198   2022년 6월 18일 토요일        1번째 방문  \n",
       "199   2023년 1월 15일 일요일        1번째 방문  \n",
       "\n",
       "[200 rows x 4 columns]"
      ]
     },
     "execution_count": 157,
     "metadata": {},
     "output_type": "execute_result"
    }
   ],
   "source": [
    "ReviewSpellChecker(df_reviews)"
   ]
  },
  {
   "cell_type": "markdown",
   "metadata": {},
   "source": [
    "### 띄어쓰기"
   ]
  },
  {
   "cell_type": "code",
   "execution_count": 2,
   "metadata": {},
   "outputs": [
    {
     "data": {
      "text/plain": [
       "'네 번째 우승은 저희 팀을 위한 것입니다.'"
      ]
     },
     "execution_count": 2,
     "metadata": {},
     "output_type": "execute_result"
    }
   ],
   "source": [
    "from pykospacing import Spacing\n",
    "spacing = Spacing()\n",
    "text = \"네번째우승은저희팀을위한것입니다.\"\n",
    "spacing(text)"
   ]
  },
  {
   "cell_type": "code",
   "execution_count": 167,
   "metadata": {},
   "outputs": [
    {
     "data": {
      "text/plain": [
       "0      신라호텔에 오면 정말 꼭 해야할 꿀팁 정리했습니다! 1. 발렛을 꼭하세요! 제휴카드...\n",
       "1      직원분들 너무 친절하시고 음식맛은 대한민국 호텔부페 넘버원인데 말해뭐해 입니다ㅎㅎ ...\n",
       "2                                     종류도 알차게 많고 다 맛있어요!\n",
       "3      신라호텔 파크뷰 조식 이용했습니다!^^\\n11층이라 뷰도 훌륭하고 객실 컨디션이나 ...\n",
       "4      창가자리는 보기만 하고 부스좌석 안내받음.. 안락하고 좋았어요. 대게는 차갑고 짜고...\n",
       "                             ...                        \n",
       "195    양갈비가 제일 맛있어요 La갈비 맛있었는데 없어져서 아쉬워요 주말에 1부는 시간이 ...\n",
       "196    가격오르고 가성비 떨어진다는데 \\n처음 와본 사람으로써 이전에 어땠는지 모르겠지만 ...\n",
       "197    가격은 있지만 특별한 날 가기 좋아요. 개인적으로 해산물보다는 디저트>육류 순으로 ...\n",
       "198    음식이 다양하고 전반적으로 다 맛있어요. 무엇보다 다들 친절하고 서비스가 너무 좋아요ㅎㅎ\n",
       "199                            사람이 너~~무 많았지만 맛있게 잘먹고왔어요!\n",
       "Name: Review_Text, Length: 200, dtype: object"
      ]
     },
     "execution_count": 167,
     "metadata": {},
     "output_type": "execute_result"
    }
   ],
   "source": [
    "temp_reviews[\"Review_Text\"]"
   ]
  },
  {
   "cell_type": "code",
   "execution_count": 152,
   "metadata": {},
   "outputs": [
    {
     "data": {
      "text/plain": [
       "'신라호텔에 오면 정말 꼭 해야할 꿀팁 정리했습니다! 1. 발렛을 꼭하세요! 제휴카드가 있으면 무료지만 제휴카드가 없더라도 33000원 결제시 가발렛을 해주시고요, 체크인시간 아깝고, 주차장에서 왔다갔다, 짐옮기기 어려운 모든걸 해결할수있습니다. 여기서 꿀팁은 체크아웃전 전화로 0\\n번 눌러서 차번호 알려주시면 미리 뺴주십니다. 일층내려와서 차뺴달라고하면 15~20분 걸려요! 2. 신라호텔 바로 주변 택시타고 기본요금, 차로도 주차가능한 맛집 중 맛집, 신라호텔이 비싸서 가성비 혹은 멋진 공간들을 찾으신다면, 을지로에 위치한 행2PM8PM 추천드립니다. 매일저녁\\n 인디가수들의 라이브공연도 매일하고, 와인이나 맥주, 술도 저렴, 라자냐파스타와 몽둥이고기가 유명한곳이라 저녁에 코스로 들르기 좋은곳이에요!'"
      ]
     },
     "execution_count": 152,
     "metadata": {},
     "output_type": "execute_result"
    }
   ],
   "source": [
    "temp_reviews[\"Review_Text\"][0]"
   ]
  },
  {
   "cell_type": "code",
   "execution_count": 197,
   "metadata": {},
   "outputs": [],
   "source": [
    "# temp_reviews.to_csv('./spacingtest_review.csv')"
   ]
  },
  {
   "cell_type": "code",
   "execution_count": 198,
   "metadata": {},
   "outputs": [],
   "source": [
    "temp_preprocess_review.drop(temp_preprocess_review[temp_preprocess_review['Review_Text'] == ''].index, inplace=True)"
   ]
  },
  {
   "cell_type": "code",
   "execution_count": null,
   "metadata": {},
   "outputs": [],
   "source": [
    "from pykospacing import Spacing\n",
    "spacing = Spacing()\n",
    "\n",
    "\n",
    "for i in range(len(temp_preprocess_review)):\n",
    "    print(i, temp_preprocess_review[\"Review_Text\"][i])\n",
    "    test_space = spacing(temp_preprocess_review[\"Review_Text\"][i])\n",
    "    # temp_reviews['Review_Text'][i] = test_space\n",
    "    temp_preprocess_review.loc[i, 'Review_Text'] = test_space"
   ]
  },
  {
   "cell_type": "code",
   "execution_count": 195,
   "metadata": {},
   "outputs": [],
   "source": [
    "temp_preprocess_review.to_csv('./spacingtest_review_2.csv')"
   ]
  },
  {
   "cell_type": "markdown",
   "metadata": {},
   "source": [
    "### 함수 만들기"
   ]
  },
  {
   "cell_type": "code",
   "execution_count": 223,
   "metadata": {},
   "outputs": [],
   "source": [
    "# Setting\n",
    "from pykospacing import Spacing\n",
    "spacing = Spacing()\n",
    "\n",
    "\n"
   ]
  },
  {
   "cell_type": "code",
   "execution_count": 224,
   "metadata": {},
   "outputs": [],
   "source": [
    "def checkSpacing(df_reviews):\n",
    "    \n",
    "    for i in range(len(df_reviews)):\n",
    "        print(i, df_reviews[\"Review_Text\"][i])\n",
    "        test_space = spacing(df_reviews[\"Review_Text\"][i])\n",
    "        # temp_reviews['Review_Text'][i] = test_space\n",
    "        df_reviews.loc[i, 'Review_Text'] = test_space"
   ]
  },
  {
   "cell_type": "markdown",
   "metadata": {},
   "source": [
    "---"
   ]
  },
  {
   "cell_type": "markdown",
   "metadata": {},
   "source": [
    "### 연습용 데이터프레임"
   ]
  },
  {
   "cell_type": "code",
   "execution_count": 204,
   "metadata": {},
   "outputs": [],
   "source": [
    "temp_reviews = pd.read_csv(\"C:/Users/pps/Desktop/Restaurant_Review/Data_Collect/shilla_hotel_buffet_review_original.csv\", encoding='utf-8')"
   ]
  },
  {
   "cell_type": "code",
   "execution_count": 210,
   "metadata": {},
   "outputs": [],
   "source": [
    "def text_preprocessing1(df_reviews):\n",
    "    \"\"\"Review_Text의 리뷰글을 전처리 하는 함수\"\"\"\n",
    "    for i in range(len(df_reviews)):\n",
    "        text = df_reviews['Review_Text'][i]\n",
    "    \n",
    "        if not isinstance(text, str):\n",
    "            text = str(text)\n",
    "        temp = re.sub('[^가-힣a-zA-Z0-9\\s]', '',text)\n",
    "\n",
    "        df_reviews.loc[[i],['Review_Text']] = temp\n",
    "        \n",
    "    df_reviews['Review_Text'] = df_reviews['Review_Text'].str.replace('\\n','')\n",
    "    df_reviews = df_reviews.drop('Unnamed: 0', axis = 1)\n",
    "    # df_reviews['Review_Text'] = df_reviews['Review_Text'].str.replace('nan', '')\n",
    "    df_reviews.drop(df_reviews[df_reviews['Review_Text'] == 'nan'].index, inplace=True)\n",
    "    df_reviews.drop(df_reviews[df_reviews['Review_Text'] == ''].index, inplace=True)\n",
    "    # df_reviews.to_csv('./S_hotel_buffet_review_data_preprocess.csv')\n",
    "    \n",
    "    return df_reviews"
   ]
  },
  {
   "cell_type": "code",
   "execution_count": 215,
   "metadata": {},
   "outputs": [],
   "source": [
    "# 실행\n",
    "# shilla_hotel_buffet_review = pd.read_csv(\"C:/Users/pps/Desktop/Restaurant_Review/Data_Collect/shilla_hotel_buffet_review_original.csv\", encoding='utf-8')\n",
    "\n",
    "temp_reviews_preprocess = text_preprocessing1(temp_reviews)\n",
    "temp_reviews_preprocess.to_csv('./preprocesstest.csv')"
   ]
  },
  {
   "cell_type": "code",
   "execution_count": null,
   "metadata": {},
   "outputs": [],
   "source": []
  },
  {
   "cell_type": "code",
   "execution_count": 212,
   "metadata": {},
   "outputs": [],
   "source": [
    "# Setting\n",
    "from hanspell import spell_checker\n",
    "\n",
    "requestURL = \"https://m.search.naver.com/p/csearch/ocontent/util/SpellerProxy?passportKey=90ae3cbdae22968de3f12b9095f35ea488ecf40b&_callback=jQuery112406350187405022272_1718946457167&q=%EB%A7%9E%EC%B6%A4%EB%B2%95+%EA%B2%80%EC%82%AC%EB%A5%BC+%EC%9B%90%ED%95%98%EB%8A%94+%EB%8B%A8%EC%96%B4%EB%82%98+%EB%AC%B8%EC%9E%A5%EC%9D%84+%EC%9E%85%EB%A0%A5%ED%95%B4+%EC%A3%BC%EC%84%B8%EC%9A%94.&where=nexearch&color_blindness=0&_=1718946457168\"\n",
    "\n",
    "def ReviewSpellChecker1(df_reviews):\n",
    "    for i in range(len(df_reviews)):\n",
    "        sentence = df_reviews['Review_Text'][i]\n",
    "        if len(sentence) > 0:\n",
    "            result = spell_checker.check(df_reviews['Review_Text'][i], requestURL).checked\n",
    "        else:\n",
    "            result = \"\"\n",
    "        df_reviews.loc[i, 'Review_Text'] = result\n",
    "        \n",
    "    df_reviews = df_reviews.drop('Unnamed: 0', axis = 1)\n",
    "    # df_reviews.to_csv('./S_hotel_buffet_review_spellchecker.csv')\n",
    "    return df_reviews"
   ]
  },
  {
   "cell_type": "code",
   "execution_count": 219,
   "metadata": {},
   "outputs": [],
   "source": [
    "# 실행\n",
    "\n",
    "# buffet_preprocess_review = pd.read_csv(\"C:/Users/pps/Desktop/Restaurant_Review/Data_Preprocessing/S_hotel_buffet_review_data_preprocess.csv\")\n",
    "temp_reviews_preprocess1 = pd.read_csv(\"C:/Users/pps/Desktop/Restaurant_Review/Data_Preprocessing/preprocesstest.csv\", encoding='utf-8')\n",
    "temp_reviews_spellcheck = ReviewSpellChecker1(temp_reviews_preprocess1)"
   ]
  },
  {
   "cell_type": "code",
   "execution_count": 220,
   "metadata": {},
   "outputs": [],
   "source": [
    "temp_reviews_spellcheck.to_csv(\"./spellchecktest.csv\")"
   ]
  },
  {
   "cell_type": "code",
   "execution_count": null,
   "metadata": {},
   "outputs": [],
   "source": []
  },
  {
   "cell_type": "code",
   "execution_count": null,
   "metadata": {},
   "outputs": [],
   "source": [
    "from pykospacing import Spacing\n",
    "spacing = Spacing()\n",
    "\n",
    "\n",
    "for i in range(len(temp_reviews_spellcheck)):\n",
    "    print(i, temp_reviews_spellcheck[\"Review_Text\"][i])\n",
    "    test_space = spacing(temp_reviews_spellcheck[\"Review_Text\"][i])\n",
    "    # temp_reviews['Review_Text'][i] = test_space\n",
    "    temp_reviews_spellcheck.loc[i, 'Review_Text'] = test_space"
   ]
  },
  {
   "cell_type": "markdown",
   "metadata": {},
   "source": [
    "---"
   ]
  },
  {
   "cell_type": "markdown",
   "metadata": {},
   "source": [
    "- 문장(리뷰)의 길이 확인"
   ]
  },
  {
   "cell_type": "code",
   "execution_count": 63,
   "metadata": {},
   "outputs": [],
   "source": [
    "import pandas as pd\n",
    "\n",
    "# temp_reviews_spacing = pd.read_csv(\"C:/Baedori99/Restaurant_Review/Data_Preprocessing/S_hotel_buffet_review_spacingcheck.csv\")\n",
    "temp_reviews_spacing = pd.read_csv(\"C:/Users/pps/Desktop/Restaurant_Review/Data_Preprocessing/S_hotel_buffet_review_spacingcheck.csv\")"
   ]
  },
  {
   "cell_type": "code",
   "execution_count": 3,
   "metadata": {},
   "outputs": [
    {
     "data": {
      "text/plain": [
       "406"
      ]
     },
     "execution_count": 3,
     "metadata": {},
     "output_type": "execute_result"
    }
   ],
   "source": [
    "len(temp_reviews_spacing[\"Review_Text\"][0])"
   ]
  },
  {
   "cell_type": "code",
   "execution_count": 4,
   "metadata": {},
   "outputs": [],
   "source": [
    "review_strlength = {\"리뷰 길이\":[]}\n",
    "review_strlength_list = []\n",
    "for i in range(len(temp_reviews_spacing)):\n",
    "    temp_length = len(temp_reviews_spacing[\"Review_Text\"][i])\n",
    "    review_strlength[\"리뷰 길이\"].append(temp_length)\n",
    "    review_strlength_list.append(temp_length)"
   ]
  },
  {
   "cell_type": "code",
   "execution_count": null,
   "metadata": {},
   "outputs": [],
   "source": [
    "review_strlength"
   ]
  },
  {
   "cell_type": "code",
   "execution_count": 18,
   "metadata": {},
   "outputs": [],
   "source": [
    "df_review_strlength = pd.DataFrame(review_strlength)"
   ]
  },
  {
   "cell_type": "code",
   "execution_count": 20,
   "metadata": {},
   "outputs": [],
   "source": [
    "df_original_strlength = df_review_strlength"
   ]
  },
  {
   "cell_type": "code",
   "execution_count": 8,
   "metadata": {},
   "outputs": [
    {
     "data": {
      "text/html": [
       "<div>\n",
       "<style scoped>\n",
       "    .dataframe tbody tr th:only-of-type {\n",
       "        vertical-align: middle;\n",
       "    }\n",
       "\n",
       "    .dataframe tbody tr th {\n",
       "        vertical-align: top;\n",
       "    }\n",
       "\n",
       "    .dataframe thead th {\n",
       "        text-align: right;\n",
       "    }\n",
       "</style>\n",
       "<table border=\"1\" class=\"dataframe\">\n",
       "  <thead>\n",
       "    <tr style=\"text-align: right;\">\n",
       "      <th></th>\n",
       "      <th>리뷰 길이</th>\n",
       "    </tr>\n",
       "  </thead>\n",
       "  <tbody>\n",
       "    <tr>\n",
       "      <th>count</th>\n",
       "      <td>185.000000</td>\n",
       "    </tr>\n",
       "    <tr>\n",
       "      <th>mean</th>\n",
       "      <td>72.848649</td>\n",
       "    </tr>\n",
       "    <tr>\n",
       "      <th>std</th>\n",
       "      <td>90.498792</td>\n",
       "    </tr>\n",
       "    <tr>\n",
       "      <th>min</th>\n",
       "      <td>1.000000</td>\n",
       "    </tr>\n",
       "    <tr>\n",
       "      <th>25%</th>\n",
       "      <td>13.000000</td>\n",
       "    </tr>\n",
       "    <tr>\n",
       "      <th>50%</th>\n",
       "      <td>40.000000</td>\n",
       "    </tr>\n",
       "    <tr>\n",
       "      <th>75%</th>\n",
       "      <td>102.000000</td>\n",
       "    </tr>\n",
       "    <tr>\n",
       "      <th>max</th>\n",
       "      <td>430.000000</td>\n",
       "    </tr>\n",
       "  </tbody>\n",
       "</table>\n",
       "</div>"
      ],
      "text/plain": [
       "            리뷰 길이\n",
       "count  185.000000\n",
       "mean    72.848649\n",
       "std     90.498792\n",
       "min      1.000000\n",
       "25%     13.000000\n",
       "50%     40.000000\n",
       "75%    102.000000\n",
       "max    430.000000"
      ]
     },
     "execution_count": 8,
     "metadata": {},
     "output_type": "execute_result"
    }
   ],
   "source": [
    "df_review_strlength.describe()"
   ]
  },
  {
   "cell_type": "markdown",
   "metadata": {},
   "source": [
    "- 총 리뷰 개수: 185\n",
    "- 리뷰 길이의 평균: 72\n",
    "- 제일 짧은 리뷰 길이 : 1\n",
    "- 제일 긴 리뷰 길이 : 430"
   ]
  },
  {
   "cell_type": "code",
   "execution_count": 12,
   "metadata": {},
   "outputs": [
    {
     "data": {
      "image/png": "[encoded data removed]",
      "text/plain": [
       "<Figure size 640x480 with 1 Axes>"
      ]
     },
     "metadata": {},
     "output_type": "display_data"
    }
   ],
   "source": [
    "import matplotlib.pyplot as plt\n",
    "\n",
    "plt.hist(review_strlength_list, bins = 10)\n",
    "plt.hist(review_strlength_list, bins=30)\n",
    "plt.show()"
   ]
  },
  {
   "cell_type": "markdown",
   "metadata": {},
   "source": [
    "- 리뷰글의 길이를 히스토그램으로 만들어 보았다.\n",
    "- 100자 이내로 쓰인 글이 제일 많았고 200자 이후로 적다."
   ]
  },
  {
   "cell_type": "code",
   "execution_count": 13,
   "metadata": {},
   "outputs": [
    {
     "data": {
      "text/plain": [
       "{'whiskers': [<matplotlib.lines.Line2D at 0x278d5bcd710>,\n",
       "  <matplotlib.lines.Line2D at 0x278d5bce790>],\n",
       " 'caps': [<matplotlib.lines.Line2D at 0x278d5bcf150>,\n",
       "  <matplotlib.lines.Line2D at 0x278d5bcef50>],\n",
       " 'boxes': [<matplotlib.lines.Line2D at 0x278d3a23810>],\n",
       " 'medians': [<matplotlib.lines.Line2D at 0x278d5bdc190>],\n",
       " 'fliers': [<matplotlib.lines.Line2D at 0x278d5bdca10>],\n",
       " 'means': []}"
      ]
     },
     "execution_count": 13,
     "metadata": {},
     "output_type": "execute_result"
    },
    {
     "data": {
      "image/png": "[encoded data removed]",
      "text/plain": [
       "<Figure size 640x480 with 1 Axes>"
      ]
     },
     "metadata": {},
     "output_type": "display_data"
    }
   ],
   "source": [
    "plt.boxplot(review_strlength_list)"
   ]
  },
  {
   "cell_type": "markdown",
   "metadata": {},
   "source": [
    "- [이상치를 찾는 방법 1(IQR)](https://brain-nim.tistory.com/21)\n",
    "- [이상치를 찾는 방법 2(z-score)](https://velog.io/@jihyunko/%EC%9D%B4%EC%83%81%EC%B9%98-%EC%89%BD%EA%B2%8C-%EC%B2%98%EB%A6%AC%ED%95%98%EA%B8%B0#z-score--z-frac-x_i-mu-sigma_x)"
   ]
  },
  {
   "cell_type": "markdown",
   "metadata": {},
   "source": [
    "- IQR (Inter-Quartile Range)\n",
    "- IQR = Q3(3사분위수) - Q1(1사분위수)\n",
    "- 제거기준 = (Q3 + IQR * 1.5보다 큰 값) &(Q1 - IQR * 1.5보다 작은 값)"
   ]
  },
  {
   "cell_type": "code",
   "execution_count": 37,
   "metadata": {},
   "outputs": [],
   "source": [
    "asceding_strlength = df_review_strlength.sort_values(\"리뷰 길이\")"
   ]
  },
  {
   "cell_type": "code",
   "execution_count": null,
   "metadata": {},
   "outputs": [],
   "source": []
  },
  {
   "cell_type": "code",
   "execution_count": 89,
   "metadata": {},
   "outputs": [
    {
     "name": "stdout",
     "output_type": "stream",
     "text": [
      "13.0\n",
      "102.0\n"
     ]
    }
   ],
   "source": [
    "Q1 = df_review_strlength[\"리뷰 길이\"].quantile(q=0.25)\n",
    "Q3 = df_review_strlength[\"리뷰 길이\"].quantile(q=0.75)\n",
    "\n",
    "print(Q1)\n",
    "print(Q3)"
   ]
  },
  {
   "cell_type": "code",
   "execution_count": 90,
   "metadata": {},
   "outputs": [
    {
     "name": "stdout",
     "output_type": "stream",
     "text": [
      "89.0\n"
     ]
    }
   ],
   "source": [
    "IQR = Q3 - Q1\n",
    "print(IQR)"
   ]
  },
  {
   "cell_type": "code",
   "execution_count": 98,
   "metadata": {},
   "outputs": [],
   "source": [
    "IQR_df = df_review_strlength[(df_review_strlength[\"리뷰 길이\"] >= Q3 + 1.5 * IQR) | (df_review_strlength[\"리뷰 길이\"] <= Q1 - 1.5*IQR)]"
   ]
  },
  {
   "cell_type": "code",
   "execution_count": 99,
   "metadata": {},
   "outputs": [
    {
     "name": "stdout",
     "output_type": "stream",
     "text": [
      "185\n",
      "14\n"
     ]
    }
   ],
   "source": [
    "print(len(df_original_strlength))\n",
    "print(len(IQR_df))"
   ]
  },
  {
   "cell_type": "code",
   "execution_count": 100,
   "metadata": {},
   "outputs": [
    {
     "name": "stdout",
     "output_type": "stream",
     "text": [
      "<class 'pandas.core.frame.DataFrame'>\n"
     ]
    }
   ],
   "source": [
    "print(type(IQR_df))"
   ]
  },
  {
   "cell_type": "code",
   "execution_count": 101,
   "metadata": {},
   "outputs": [
    {
     "name": "stdout",
     "output_type": "stream",
     "text": [
      "     리뷰 길이\n",
      "0      406\n",
      "8      294\n",
      "12     245\n",
      "23     325\n",
      "31     352\n",
      "53     430\n",
      "98     328\n",
      "103    333\n",
      "132    255\n",
      "140    336\n",
      "152    263\n",
      "169    339\n",
      "174    310\n",
      "175    414\n"
     ]
    }
   ],
   "source": [
    "print(IQR_df)"
   ]
  },
  {
   "cell_type": "code",
   "execution_count": 51,
   "metadata": {},
   "outputs": [],
   "source": [
    "import matplotlib.pyplot as plt\n",
    "font_path = 'C:/Users/pps/AppData/Local/Microsoft/Windows/Fonts/NanumBarunGothic.ttf'\n",
    "font_name = plt.matplotlib.font_manager.FontProperties(fname=font_path).get_name()\n",
    "\n",
    "plt.rcParams['font.family'] = font_name"
   ]
  },
  {
   "cell_type": "code",
   "execution_count": 52,
   "metadata": {},
   "outputs": [
    {
     "data": {
      "text/plain": [
       "<Axes: >"
      ]
     },
     "execution_count": 52,
     "metadata": {},
     "output_type": "execute_result"
    },
    {
     "data": {
      "image/png": "[encoded data removed]",
      "text/plain": [
       "<Figure size 640x480 with 1 Axes>"
      ]
     },
     "metadata": {},
     "output_type": "display_data"
    }
   ],
   "source": [
    "IQR_df.boxplot()"
   ]
  },
  {
   "cell_type": "code",
   "execution_count": 53,
   "metadata": {},
   "outputs": [
    {
     "data": {
      "text/plain": [
       "array([[<Axes: title={'center': '리뷰 길이'}>]], dtype=object)"
      ]
     },
     "execution_count": 53,
     "metadata": {},
     "output_type": "execute_result"
    },
    {
     "data": {
      "image/png": "[encoded data removed]",
      "text/plain": [
       "<Figure size 640x480 with 1 Axes>"
      ]
     },
     "metadata": {},
     "output_type": "display_data"
    },
    {
     "data": {
      "image/png": "[encoded data removed]",
      "text/plain": [
       "<Figure size 640x480 with 1 Axes>"
      ]
     },
     "metadata": {},
     "output_type": "display_data"
    }
   ],
   "source": [
    "IQR_df.hist(bins=20)\n",
    "df_review_strlength.hist(bins=20)"
   ]
  },
  {
   "cell_type": "code",
   "execution_count": 55,
   "metadata": {},
   "outputs": [
    {
     "name": "stdout",
     "output_type": "stream",
     "text": [
      "     리뷰 길이\n",
      "0      406\n",
      "1      101\n",
      "2       17\n",
      "3      171\n",
      "4      187\n",
      "..     ...\n",
      "180     98\n",
      "181    189\n",
      "182     51\n",
      "183     46\n",
      "184     24\n",
      "\n",
      "[185 rows x 1 columns]\n"
     ]
    }
   ],
   "source": [
    "print(df_original_strlength)"
   ]
  },
  {
   "cell_type": "code",
   "execution_count": 56,
   "metadata": {},
   "outputs": [
    {
     "data": {
      "text/html": [
       "<div>\n",
       "<style scoped>\n",
       "    .dataframe tbody tr th:only-of-type {\n",
       "        vertical-align: middle;\n",
       "    }\n",
       "\n",
       "    .dataframe tbody tr th {\n",
       "        vertical-align: top;\n",
       "    }\n",
       "\n",
       "    .dataframe thead th {\n",
       "        text-align: right;\n",
       "    }\n",
       "</style>\n",
       "<table border=\"1\" class=\"dataframe\">\n",
       "  <thead>\n",
       "    <tr style=\"text-align: right;\">\n",
       "      <th></th>\n",
       "      <th>리뷰 길이</th>\n",
       "    </tr>\n",
       "  </thead>\n",
       "  <tbody>\n",
       "    <tr>\n",
       "      <th>0</th>\n",
       "      <td>406</td>\n",
       "    </tr>\n",
       "    <tr>\n",
       "      <th>8</th>\n",
       "      <td>294</td>\n",
       "    </tr>\n",
       "    <tr>\n",
       "      <th>23</th>\n",
       "      <td>325</td>\n",
       "    </tr>\n",
       "    <tr>\n",
       "      <th>31</th>\n",
       "      <td>352</td>\n",
       "    </tr>\n",
       "    <tr>\n",
       "      <th>53</th>\n",
       "      <td>430</td>\n",
       "    </tr>\n",
       "    <tr>\n",
       "      <th>98</th>\n",
       "      <td>328</td>\n",
       "    </tr>\n",
       "    <tr>\n",
       "      <th>103</th>\n",
       "      <td>333</td>\n",
       "    </tr>\n",
       "    <tr>\n",
       "      <th>132</th>\n",
       "      <td>255</td>\n",
       "    </tr>\n",
       "    <tr>\n",
       "      <th>140</th>\n",
       "      <td>336</td>\n",
       "    </tr>\n",
       "    <tr>\n",
       "      <th>152</th>\n",
       "      <td>263</td>\n",
       "    </tr>\n",
       "    <tr>\n",
       "      <th>169</th>\n",
       "      <td>339</td>\n",
       "    </tr>\n",
       "    <tr>\n",
       "      <th>174</th>\n",
       "      <td>310</td>\n",
       "    </tr>\n",
       "    <tr>\n",
       "      <th>175</th>\n",
       "      <td>414</td>\n",
       "    </tr>\n",
       "  </tbody>\n",
       "</table>\n",
       "</div>"
      ],
      "text/plain": [
       "     리뷰 길이\n",
       "0      406\n",
       "8      294\n",
       "23     325\n",
       "31     352\n",
       "53     430\n",
       "98     328\n",
       "103    333\n",
       "132    255\n",
       "140    336\n",
       "152    263\n",
       "169    339\n",
       "174    310\n",
       "175    414"
      ]
     },
     "execution_count": 56,
     "metadata": {},
     "output_type": "execute_result"
    }
   ],
   "source": [
    "df_original_strlength[(abs((df_original_strlength[\"리뷰 길이\"]-df_original_strlength[\"리뷰 길이\"].mean())/df_original_strlength[\"리뷰 길이\"].std())) > 1.96]"
   ]
  },
  {
   "cell_type": "code",
   "execution_count": 58,
   "metadata": {},
   "outputs": [],
   "source": [
    "outlier = df_original_strlength[(abs((df_original_strlength[\"리뷰 길이\"]-df_original_strlength[\"리뷰 길이\"].mean())/df_original_strlength[\"리뷰 길이\"].std())) > 1.96].index"
   ]
  },
  {
   "cell_type": "code",
   "execution_count": 59,
   "metadata": {},
   "outputs": [],
   "source": [
    "clean_df = df_original_strlength.drop(outlier)"
   ]
  },
  {
   "cell_type": "code",
   "execution_count": 62,
   "metadata": {},
   "outputs": [
    {
     "data": {
      "text/html": [
       "<div>\n",
       "<style scoped>\n",
       "    .dataframe tbody tr th:only-of-type {\n",
       "        vertical-align: middle;\n",
       "    }\n",
       "\n",
       "    .dataframe tbody tr th {\n",
       "        vertical-align: top;\n",
       "    }\n",
       "\n",
       "    .dataframe thead th {\n",
       "        text-align: right;\n",
       "    }\n",
       "</style>\n",
       "<table border=\"1\" class=\"dataframe\">\n",
       "  <thead>\n",
       "    <tr style=\"text-align: right;\">\n",
       "      <th></th>\n",
       "      <th>리뷰 길이</th>\n",
       "    </tr>\n",
       "  </thead>\n",
       "  <tbody>\n",
       "    <tr>\n",
       "      <th>1</th>\n",
       "      <td>101</td>\n",
       "    </tr>\n",
       "    <tr>\n",
       "      <th>2</th>\n",
       "      <td>17</td>\n",
       "    </tr>\n",
       "    <tr>\n",
       "      <th>3</th>\n",
       "      <td>171</td>\n",
       "    </tr>\n",
       "    <tr>\n",
       "      <th>4</th>\n",
       "      <td>187</td>\n",
       "    </tr>\n",
       "    <tr>\n",
       "      <th>5</th>\n",
       "      <td>17</td>\n",
       "    </tr>\n",
       "    <tr>\n",
       "      <th>...</th>\n",
       "      <td>...</td>\n",
       "    </tr>\n",
       "    <tr>\n",
       "      <th>180</th>\n",
       "      <td>98</td>\n",
       "    </tr>\n",
       "    <tr>\n",
       "      <th>181</th>\n",
       "      <td>189</td>\n",
       "    </tr>\n",
       "    <tr>\n",
       "      <th>182</th>\n",
       "      <td>51</td>\n",
       "    </tr>\n",
       "    <tr>\n",
       "      <th>183</th>\n",
       "      <td>46</td>\n",
       "    </tr>\n",
       "    <tr>\n",
       "      <th>184</th>\n",
       "      <td>24</td>\n",
       "    </tr>\n",
       "  </tbody>\n",
       "</table>\n",
       "<p>172 rows × 1 columns</p>\n",
       "</div>"
      ],
      "text/plain": [
       "     리뷰 길이\n",
       "1      101\n",
       "2       17\n",
       "3      171\n",
       "4      187\n",
       "5       17\n",
       "..     ...\n",
       "180     98\n",
       "181    189\n",
       "182     51\n",
       "183     46\n",
       "184     24\n",
       "\n",
       "[172 rows x 1 columns]"
      ]
     },
     "execution_count": 62,
     "metadata": {},
     "output_type": "execute_result"
    }
   ],
   "source": [
    "clean_df"
   ]
  },
  {
   "cell_type": "code",
   "execution_count": 61,
   "metadata": {},
   "outputs": [
    {
     "data": {
      "image/png": "[encoded data removed]",
      "text/plain": [
       "<Figure size 640x480 with 1 Axes>"
      ]
     },
     "metadata": {},
     "output_type": "display_data"
    }
   ],
   "source": [
    "clean_df[[\"리뷰 길이\"]].boxplot()\n",
    "plt.show()"
   ]
  },
  {
   "cell_type": "code",
   "execution_count": 127,
   "metadata": {},
   "outputs": [],
   "source": [
    "import pandas as pd\n",
    "\n",
    "def find_reviewlength(df_reviews):\n",
    "    review_strlength = {\"리뷰 길이\":[]}\n",
    "    for i in range(len(df_reviews)):\n",
    "        # 리뷰의 길이를 행마다 구하기\n",
    "        temp_length = len(df_reviews[\"Review_Text\"][i])\n",
    "        review_strlength[\"리뷰 길이\"].append(temp_length)\n",
    "        \n",
    "    df_temp_review_strlength = pd.DataFrame(review_strlength)\n",
    "    return df_temp_review_strlength\n",
    "\n",
    "# z-score를 통해 이상치를 찾는 함수\n",
    "# def find_outlier(df_length_reviews, df_reviews):\n",
    "#     outlier = df_length_reviews[(abs((df_length_reviews[\"리뷰 길이\"]-df_length_reviews[\"리뷰 길이\"].mean())/df_length_reviews[\"리뷰 길이\"].std())) > 1.96].index\n",
    "#     clean_df = df_reviews.drop(outlier)\n",
    "#     return clean_df\n",
    "\n",
    "# IQR을 이용한 이상치를 찾는 함수\n",
    "def find_IQR(df_length_reviews,df_reviews):\n",
    "    new_df_length = df_length_reviews.copy()\n",
    "    new_df_reviews = df_reviews.copy()\n",
    "    Q1 = new_df_length[\"리뷰 길이\"].quantile(q=0.25)\n",
    "    Q3 = new_df_length[\"리뷰 길이\"].quantile(q=0.75)\n",
    "    IQR = Q3 - Q1\n",
    "    # IQR = Q3(3사분위수) - Q1(1사분위수)\n",
    "    # 제거기준 = (Q3 + IQR * 1.5보다 큰 값) & (Q1 - IQR * 1.5보다 작은 값)\n",
    "    IQR_df = new_df_length[(new_df_length[\"리뷰 길이\"] >= Q3 + 1.5 * IQR) | (new_df_length[\"리뷰 길이\"] <= Q1 - 1.5*IQR)].index\n",
    "    print(IQR_df)\n",
    "    new_df_reviews = new_df_reviews.drop('Unnamed: 0.1', axis = 1)\n",
    "    new_df_reviews = new_df_reviews.drop('Unnamed: 0', axis = 1)\n",
    "    \n",
    "    new_df_reviews.drop(IQR_df, inplace = True)\n",
    "    print(len(new_df_reviews))\n",
    "    new_df_reviews.reset_index(drop=True, inplace = True)\n",
    "    \n",
    "    new_df_reviews.to_csv(\"./IQRtest.csv\")\n",
    "    return new_df_reviews\n",
    "    "
   ]
  },
  {
   "cell_type": "code",
   "execution_count": 128,
   "metadata": {},
   "outputs": [
    {
     "name": "stdout",
     "output_type": "stream",
     "text": [
      "Index([0, 8, 12, 23, 31, 53, 98, 103, 132, 140, 152, 169, 174, 175], dtype='int64')\n",
      "171\n"
     ]
    },
    {
     "data": {
      "text/html": [
       "<div>\n",
       "<style scoped>\n",
       "    .dataframe tbody tr th:only-of-type {\n",
       "        vertical-align: middle;\n",
       "    }\n",
       "\n",
       "    .dataframe tbody tr th {\n",
       "        vertical-align: top;\n",
       "    }\n",
       "\n",
       "    .dataframe thead th {\n",
       "        text-align: right;\n",
       "    }\n",
       "</style>\n",
       "<table border=\"1\" class=\"dataframe\">\n",
       "  <thead>\n",
       "    <tr style=\"text-align: right;\">\n",
       "      <th></th>\n",
       "      <th>UserID</th>\n",
       "      <th>Review_Text</th>\n",
       "      <th>Date</th>\n",
       "      <th>NumberOfVisit</th>\n",
       "    </tr>\n",
       "  </thead>\n",
       "  <tbody>\n",
       "    <tr>\n",
       "      <th>0</th>\n",
       "      <td>illiiilillil</td>\n",
       "      <td>직원 분들 너무 친절하시고 음식 맛은 대한민국 호텔 뷔페 넘버 원인데 말해 뭐 해입...</td>\n",
       "      <td>2024년 5월 19일 일요일</td>\n",
       "      <td>1번째 방문</td>\n",
       "    </tr>\n",
       "    <tr>\n",
       "      <th>1</th>\n",
       "      <td>shooooooo</td>\n",
       "      <td>종류도 알차게 많고 다 맛있어요</td>\n",
       "      <td>2024년 6월 7일 금요일</td>\n",
       "      <td>1번째 방문</td>\n",
       "    </tr>\n",
       "    <tr>\n",
       "      <th>2</th>\n",
       "      <td>Choigo다</td>\n",
       "      <td>신라호텔 파크뷰 조식 이용했습니다 11층이라 뷰도 훌륭하고 객실 컨디션이나 청결 서...</td>\n",
       "      <td>2024년 3월 3일 일요일</td>\n",
       "      <td>1번째 방문</td>\n",
       "    </tr>\n",
       "    <tr>\n",
       "      <th>3</th>\n",
       "      <td>shekyh</td>\n",
       "      <td>창가 자리는 보기만 하고 부스 좌석 안내받음 안락하고 좋았어요 대게는 차갑고 짜고 ...</td>\n",
       "      <td>2024년 2월 3일 토요일</td>\n",
       "      <td>1번째 방문</td>\n",
       "    </tr>\n",
       "    <tr>\n",
       "      <th>4</th>\n",
       "      <td>이진욱쨩</td>\n",
       "      <td>항상 친절하시고 음식도 맛있네요</td>\n",
       "      <td>2024년 4월 21일 일요일</td>\n",
       "      <td>2번째 방문</td>\n",
       "    </tr>\n",
       "    <tr>\n",
       "      <th>...</th>\n",
       "      <td>...</td>\n",
       "      <td>...</td>\n",
       "      <td>...</td>\n",
       "      <td>...</td>\n",
       "    </tr>\n",
       "    <tr>\n",
       "      <th>166</th>\n",
       "      <td>sj5****</td>\n",
       "      <td>양 갈비가 제일 맛있어요 La갈비 맛있었는데 없어져서 아쉬워요 주말에 1부는 시간이...</td>\n",
       "      <td>2022년 9월 18일 일요일</td>\n",
       "      <td>1번째 방문</td>\n",
       "    </tr>\n",
       "    <tr>\n",
       "      <th>167</th>\n",
       "      <td>마츠코</td>\n",
       "      <td>가격 오르고 가성비 떨어진다는 데 처음 와본 사람으로서 이전에 어땠는지 모르겠지만 ...</td>\n",
       "      <td>2022년 8월 24일 수요일</td>\n",
       "      <td>1번째 방문</td>\n",
       "    </tr>\n",
       "    <tr>\n",
       "      <th>168</th>\n",
       "      <td>디기디기디기갱갱</td>\n",
       "      <td>가격은 있지만 특별한 날 가기 좋아요 개인적으로 해산물보다는 디저트 육류 순으로 맛...</td>\n",
       "      <td>2022년 10월 10일 월요일</td>\n",
       "      <td>1번째 방문</td>\n",
       "    </tr>\n",
       "    <tr>\n",
       "      <th>169</th>\n",
       "      <td>캠퍼필즈</td>\n",
       "      <td>음식이 다양하고 전반적으로 다 맛있어요 무엇보다 다들 친절하고 서비스가 너무 좋아요</td>\n",
       "      <td>2022년 6월 18일 토요일</td>\n",
       "      <td>1번째 방문</td>\n",
       "    </tr>\n",
       "    <tr>\n",
       "      <th>170</th>\n",
       "      <td>youjin727</td>\n",
       "      <td>사람이 너무 많았지만 맛있게 잘 먹고 왔어요</td>\n",
       "      <td>2023년 1월 15일 일요일</td>\n",
       "      <td>1번째 방문</td>\n",
       "    </tr>\n",
       "  </tbody>\n",
       "</table>\n",
       "<p>171 rows × 4 columns</p>\n",
       "</div>"
      ],
      "text/plain": [
       "           UserID                                        Review_Text  \\\n",
       "0    illiiilillil  직원 분들 너무 친절하시고 음식 맛은 대한민국 호텔 뷔페 넘버 원인데 말해 뭐 해입...   \n",
       "1       shooooooo                                  종류도 알차게 많고 다 맛있어요   \n",
       "2         Choigo다  신라호텔 파크뷰 조식 이용했습니다 11층이라 뷰도 훌륭하고 객실 컨디션이나 청결 서...   \n",
       "3          shekyh  창가 자리는 보기만 하고 부스 좌석 안내받음 안락하고 좋았어요 대게는 차갑고 짜고 ...   \n",
       "4            이진욱쨩                                  항상 친절하시고 음식도 맛있네요   \n",
       "..            ...                                                ...   \n",
       "166       sj5****  양 갈비가 제일 맛있어요 La갈비 맛있었는데 없어져서 아쉬워요 주말에 1부는 시간이...   \n",
       "167           마츠코  가격 오르고 가성비 떨어진다는 데 처음 와본 사람으로서 이전에 어땠는지 모르겠지만 ...   \n",
       "168      디기디기디기갱갱  가격은 있지만 특별한 날 가기 좋아요 개인적으로 해산물보다는 디저트 육류 순으로 맛...   \n",
       "169          캠퍼필즈     음식이 다양하고 전반적으로 다 맛있어요 무엇보다 다들 친절하고 서비스가 너무 좋아요   \n",
       "170     youjin727                           사람이 너무 많았지만 맛있게 잘 먹고 왔어요   \n",
       "\n",
       "                  Date NumberOfVisit  \n",
       "0     2024년 5월 19일 일요일        1번째 방문  \n",
       "1      2024년 6월 7일 금요일        1번째 방문  \n",
       "2      2024년 3월 3일 일요일        1번째 방문  \n",
       "3      2024년 2월 3일 토요일        1번째 방문  \n",
       "4     2024년 4월 21일 일요일        2번째 방문  \n",
       "..                 ...           ...  \n",
       "166   2022년 9월 18일 일요일        1번째 방문  \n",
       "167   2022년 8월 24일 수요일        1번째 방문  \n",
       "168  2022년 10월 10일 월요일        1번째 방문  \n",
       "169   2022년 6월 18일 토요일        1번째 방문  \n",
       "170   2023년 1월 15일 일요일        1번째 방문  \n",
       "\n",
       "[171 rows x 4 columns]"
      ]
     },
     "execution_count": 128,
     "metadata": {},
     "output_type": "execute_result"
    }
   ],
   "source": [
    "temp_reviews_spacing = pd.read_csv(\"C:/Users/pps/Desktop/Restaurant_Review/Data_Preprocessing/S_hotel_buffet_review_spacingcheck.csv\")\n",
    "df_temp_reviewlength = find_reviewlength(temp_reviews_spacing)\n",
    "find_IQR(df_temp_reviewlength,temp_reviews_spacing)"
   ]
  },
  {
   "cell_type": "markdown",
   "metadata": {},
   "source": [
    "---"
   ]
  },
  {
   "cell_type": "markdown",
   "metadata": {},
   "source": [
    "- 신조어 처리\n",
    "- ***신조어 처리를 하지 않겠음***"
   ]
  },
  {
   "cell_type": "code",
   "execution_count": 133,
   "metadata": {},
   "outputs": [],
   "source": [
    "# from soynlp.tokenizer import RegexTokenizer\n",
    "# tokenizer = RegexTokenizer()\n",
    "# print(tokenizer.tokenize('체고'))\n"
   ]
  },
  {
   "cell_type": "code",
   "execution_count": 150,
   "metadata": {},
   "outputs": [
    {
     "data": {
      "text/plain": [
       "[('좋', 'Adjective'), ('댓', 'Modifier'), ('구', 'Modifier'), ('알', 'Noun')]"
      ]
     },
     "execution_count": 150,
     "metadata": {},
     "output_type": "execute_result"
    }
   ],
   "source": [
    "from konlpy.tag import Okt\n",
    "\n",
    "okt = Okt()\n",
    "# okt.pos(\"저의 최애 메뉴는 짜장면입니다.\")\n",
    "# okt.pos(\"이영화존잼쓰ㅋㅋㅋㅋ\")\n",
    "okt.pos(\"좋댓구알\")"
   ]
  },
  {
   "cell_type": "code",
   "execution_count": 136,
   "metadata": {},
   "outputs": [
    {
     "name": "stdout",
     "output_type": "stream",
     "text": [
      "아ㅋㅋ영화존잼쓰ㅠㅠ\n"
     ]
    }
   ],
   "source": [
    "from soynlp.normalizer import emoticon_normalize\n",
    "print(emoticon_normalize(\"앜ㅋㅋㅋ이영화존잼쓰ㅠㅠ\"))"
   ]
  },
  {
   "cell_type": "code",
   "execution_count": null,
   "metadata": {},
   "outputs": [],
   "source": [
    "from soynlp.word import WordExtractor\n",
    "\n",
    "word_extractor = WordExtractor(\n",
    "    min_frequency=100,\n",
    "    min_cohesion_forward=0.05,\n",
    "    min_right_branching_entropy=0.0\n",
    ")"
   ]
  },
  {
   "cell_type": "markdown",
   "metadata": {},
   "source": [
    "---"
   ]
  }
 ],
 "metadata": {
  "kernelspec": {
   "display_name": "study",
   "language": "python",
   "name": "python3"
  },
  "language_info": {
   "codemirror_mode": {
    "name": "ipython",
    "version": 3
   },
   "file_extension": ".py",
   "mimetype": "text/x-python",
   "name": "python",
   "nbconvert_exporter": "python",
   "pygments_lexer": "ipython3",
   "version": "3.11.9"
  }
 },
 "nbformat": 4,
 "nbformat_minor": 2
}
